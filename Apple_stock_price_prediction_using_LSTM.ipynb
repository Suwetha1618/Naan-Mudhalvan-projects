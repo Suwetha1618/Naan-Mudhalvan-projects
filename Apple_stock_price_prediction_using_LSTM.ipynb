{
  "metadata": {
    "kernelspec": {
      "language": "python",
      "display_name": "Python 3",
      "name": "python3"
    },
    "language_info": {
      "pygments_lexer": "ipython3",
      "nbconvert_exporter": "python",
      "version": "3.6.4",
      "file_extension": ".py",
      "codemirror_mode": {
        "name": "ipython",
        "version": 3
      },
      "name": "python",
      "mimetype": "text/x-python"
    },
    "colab": {
      "provenance": [],
      "include_colab_link": true
    }
  },
  "nbformat_minor": 0,
  "nbformat": 4,
  "cells": [
    {
      "cell_type": "markdown",
      "metadata": {
        "id": "view-in-github",
        "colab_type": "text"
      },
      "source": [
        "<a href=\"https://colab.research.google.com/github/Suwetha1618/Naan-Mudhalvan-projects/blob/main/Apple_stock_price_prediction_using_LSTM.ipynb\" target=\"_parent\"><img src=\"https://colab.research.google.com/assets/colab-badge.svg\" alt=\"Open In Colab\"/></a>"
      ]
    },
    {
      "source": [
        "\n",
        "# IMPORTANT: RUN THIS CELL IN ORDER TO IMPORT YOUR KAGGLE DATA SOURCES\n",
        "# TO THE CORRECT LOCATION (/kaggle/input) IN YOUR NOTEBOOK,\n",
        "# THEN FEEL FREE TO DELETE THIS CELL.\n",
        "# NOTE: THIS NOTEBOOK ENVIRONMENT DIFFERS FROM KAGGLE'S PYTHON\n",
        "# ENVIRONMENT SO THERE MAY BE MISSING LIBRARIES USED BY YOUR\n",
        "# NOTEBOOK.\n",
        "\n",
        "import os\n",
        "import sys\n",
        "from tempfile import NamedTemporaryFile\n",
        "from urllib.request import urlopen\n",
        "from urllib.parse import unquote, urlparse\n",
        "from urllib.error import HTTPError\n",
        "from zipfile import ZipFile\n",
        "import tarfile\n",
        "import shutil\n",
        "\n",
        "CHUNK_SIZE = 40960\n",
        "DATA_SOURCE_MAPPING = 'stock-price-prediction-of-apple-inc:https%3A%2F%2Fstorage.googleapis.com%2Fkaggle-data-sets%2F1668559%2F2736918%2Fbundle%2Farchive.zip%3FX-Goog-Algorithm%3DGOOG4-RSA-SHA256%26X-Goog-Credential%3Dgcp-kaggle-com%2540kaggle-161607.iam.gserviceaccount.com%252F20240430%252Fauto%252Fstorage%252Fgoog4_request%26X-Goog-Date%3D20240430T040027Z%26X-Goog-Expires%3D259200%26X-Goog-SignedHeaders%3Dhost%26X-Goog-Signature%3D4fcc20d2e66523c9acdbf70694aef2af34736c02563a4203f753de1812538e1e3df55972d322d57bb73454872c7c6217aab5eb379c6b5a12d44b56b551b15a1061e0c64a8b910006c036305fd3db52d9bec7cf53659c297dc2d90a3ca5cbbe2179f69f211b940d901e45da63d39e3201e5d9d95704b99931fd62b5f3abbff033b43fa2a18e049a8228114d31e52cecf5fd12bfafc42f52ac20293b1bf2c746c1d1d15d56ae538bc4733e88839435135c226bfcfd90e59ed14aca8abab393d08c104eb9d8b77563e71e2840a25d9b383d5465a63bbd7f67c59d34f922ee3c8ff44fe480f600d3f3a5e448d8a37ab9b0d32043a638cf41ec6e62639f464d6d911a'\n",
        "\n",
        "KAGGLE_INPUT_PATH='/kaggle/input'\n",
        "KAGGLE_WORKING_PATH='/kaggle/working'\n",
        "KAGGLE_SYMLINK='kaggle'\n",
        "\n",
        "!umount /kaggle/input/ 2> /dev/null\n",
        "shutil.rmtree('/kaggle/input', ignore_errors=True)\n",
        "os.makedirs(KAGGLE_INPUT_PATH, 0o777, exist_ok=True)\n",
        "os.makedirs(KAGGLE_WORKING_PATH, 0o777, exist_ok=True)\n",
        "\n",
        "try:\n",
        "  os.symlink(KAGGLE_INPUT_PATH, os.path.join(\"..\", 'input'), target_is_directory=True)\n",
        "except FileExistsError:\n",
        "  pass\n",
        "try:\n",
        "  os.symlink(KAGGLE_WORKING_PATH, os.path.join(\"..\", 'working'), target_is_directory=True)\n",
        "except FileExistsError:\n",
        "  pass\n",
        "\n",
        "for data_source_mapping in DATA_SOURCE_MAPPING.split(','):\n",
        "    directory, download_url_encoded = data_source_mapping.split(':')\n",
        "    download_url = unquote(download_url_encoded)\n",
        "    filename = urlparse(download_url).path\n",
        "    destination_path = os.path.join(KAGGLE_INPUT_PATH, directory)\n",
        "    try:\n",
        "        with urlopen(download_url) as fileres, NamedTemporaryFile() as tfile:\n",
        "            total_length = fileres.headers['content-length']\n",
        "            print(f'Downloading {directory}, {total_length} bytes compressed')\n",
        "            dl = 0\n",
        "            data = fileres.read(CHUNK_SIZE)\n",
        "            while len(data) > 0:\n",
        "                dl += len(data)\n",
        "                tfile.write(data)\n",
        "                done = int(50 * dl / int(total_length))\n",
        "                sys.stdout.write(f\"\\r[{'=' * done}{' ' * (50-done)}] {dl} bytes downloaded\")\n",
        "                sys.stdout.flush()\n",
        "                data = fileres.read(CHUNK_SIZE)\n",
        "            if filename.endswith('.zip'):\n",
        "              with ZipFile(tfile) as zfile:\n",
        "                zfile.extractall(destination_path)\n",
        "            else:\n",
        "              with tarfile.open(tfile.name) as tarfile:\n",
        "                tarfile.extractall(destination_path)\n",
        "            print(f'\\nDownloaded and uncompressed: {directory}')\n",
        "    except HTTPError as e:\n",
        "        print(f'Failed to load (likely expired) {download_url} to path {destination_path}')\n",
        "        continue\n",
        "    except OSError as e:\n",
        "        print(f'Failed to load {download_url} to path {destination_path}')\n",
        "        continue\n",
        "\n",
        "print('Data source import complete.')\n"
      ],
      "metadata": {
        "id": "7o5QBnZsKg0X",
        "colab": {
          "base_uri": "https://localhost:8080/"
        },
        "outputId": "24612e13-df6a-4fe5-b3fe-650e418c81c9"
      },
      "cell_type": "code",
      "outputs": [
        {
          "output_type": "stream",
          "name": "stdout",
          "text": [
            "Downloading stock-price-prediction-of-apple-inc, 29349 bytes compressed\n",
            "\r[==================================================] 29349 bytes downloaded\n",
            "Downloaded and uncompressed: stock-price-prediction-of-apple-inc\n",
            "Data source import complete.\n"
          ]
        }
      ],
      "execution_count": 1
    },
    {
      "cell_type": "code",
      "source": [
        "# This Python 3 environment comes with many helpful analytics libraries installed\n",
        "# It is defined by the kaggle/python Docker image: https://github.com/kaggle/docker-python\n",
        "# For example, here's several helpful packages to load\n",
        "\n",
        "import numpy as np # linear algebra\n",
        "import pandas as pd # data processing, CSV file I/O (e.g. pd.read_csv)\n",
        "\n",
        "# Input data files are available in the read-only \"../input/\" directory\n",
        "# For example, running this (by clicking run or pressing Shift+Enter) will list all files under the input directory\n",
        "\n",
        "import os\n",
        "for dirname, _, filenames in os.walk('/kaggle/input'):\n",
        "    for filename in filenames:\n",
        "        print(os.path.join(dirname, filename))\n",
        "\n",
        "# You can write up to 20GB to the current directory (/kaggle/working/) that gets preserved as output when you create a version using \"Save & Run All\"\n",
        "# You can also write temporary files to /kaggle/temp/, but they won't be saved outside of the current session"
      ],
      "metadata": {
        "_uuid": "8f2839f25d086af736a60e9eeb907d3b93b6e0e5",
        "_cell_guid": "b1076dfc-b9ad-4769-8c92-a6c4dae69d19",
        "execution": {
          "iopub.status.busy": "2021-10-27T14:18:06.749541Z",
          "iopub.execute_input": "2021-10-27T14:18:06.750183Z",
          "iopub.status.idle": "2021-10-27T14:18:06.77742Z",
          "shell.execute_reply.started": "2021-10-27T14:18:06.750095Z",
          "shell.execute_reply": "2021-10-27T14:18:06.776521Z"
        },
        "trusted": true,
        "id": "THBVz64eKg0c",
        "colab": {
          "base_uri": "https://localhost:8080/"
        },
        "outputId": "051cfc29-cb10-4623-889e-b6ac78dcf0bb"
      },
      "execution_count": 2,
      "outputs": [
        {
          "output_type": "stream",
          "name": "stdout",
          "text": [
            "/kaggle/input/stock-price-prediction-of-apple-inc/apple_share_price.csv\n"
          ]
        }
      ]
    },
    {
      "cell_type": "code",
      "source": [
        "import pandas as pd\n",
        "import numpy as np\n",
        "from numpy import array\n",
        "import math\n",
        "import matplotlib.pyplot as plt\n",
        "from sklearn.preprocessing import MinMaxScaler\n",
        "import tensorflow as tf\n",
        "from tensorflow.keras.models import Sequential\n",
        "from tensorflow.keras.layers import Dense\n",
        "from tensorflow.keras.layers import LSTM\n",
        "%matplotlib inline"
      ],
      "metadata": {
        "execution": {
          "iopub.status.busy": "2021-10-27T14:18:06.779176Z",
          "iopub.execute_input": "2021-10-27T14:18:06.77952Z",
          "iopub.status.idle": "2021-10-27T14:18:12.021734Z",
          "shell.execute_reply.started": "2021-10-27T14:18:06.779468Z",
          "shell.execute_reply": "2021-10-27T14:18:12.020893Z"
        },
        "trusted": true,
        "id": "mPZakomnKg0d"
      },
      "execution_count": 3,
      "outputs": []
    },
    {
      "cell_type": "code",
      "source": [
        "df=pd.read_csv('../input/stock-price-prediction-of-apple-inc/apple_share_price.csv')\n",
        "df.head()"
      ],
      "metadata": {
        "execution": {
          "iopub.status.busy": "2021-10-27T14:18:12.023006Z",
          "iopub.execute_input": "2021-10-27T14:18:12.023331Z",
          "iopub.status.idle": "2021-10-27T14:18:12.081242Z",
          "shell.execute_reply.started": "2021-10-27T14:18:12.02329Z",
          "shell.execute_reply": "2021-10-27T14:18:12.079905Z"
        },
        "trusted": true,
        "id": "i4VnSBMLKg0d",
        "colab": {
          "base_uri": "https://localhost:8080/",
          "height": 206
        },
        "outputId": "fabdd26a-0174-4dad-eb74-e2d659493405"
      },
      "execution_count": 4,
      "outputs": [
        {
          "output_type": "execute_result",
          "data": {
            "text/plain": [
              "        Date    Open    High     Low   Close    Volume\n",
              "0  11-Aug-17  156.60  158.57  156.07  157.48  26257096\n",
              "1  10-Aug-17  159.90  160.00  154.63  155.32  40804273\n",
              "2   9-Aug-17  159.26  161.27  159.11  161.06  26131530\n",
              "3   8-Aug-17  158.60  161.83  158.27  160.08  36205896\n",
              "4   7-Aug-17  157.06  158.92  156.67  158.81  21870321"
            ],
            "text/html": [
              "\n",
              "  <div id=\"df-8a5d85b9-cc30-4140-ad47-1ffda969895b\" class=\"colab-df-container\">\n",
              "    <div>\n",
              "<style scoped>\n",
              "    .dataframe tbody tr th:only-of-type {\n",
              "        vertical-align: middle;\n",
              "    }\n",
              "\n",
              "    .dataframe tbody tr th {\n",
              "        vertical-align: top;\n",
              "    }\n",
              "\n",
              "    .dataframe thead th {\n",
              "        text-align: right;\n",
              "    }\n",
              "</style>\n",
              "<table border=\"1\" class=\"dataframe\">\n",
              "  <thead>\n",
              "    <tr style=\"text-align: right;\">\n",
              "      <th></th>\n",
              "      <th>Date</th>\n",
              "      <th>Open</th>\n",
              "      <th>High</th>\n",
              "      <th>Low</th>\n",
              "      <th>Close</th>\n",
              "      <th>Volume</th>\n",
              "    </tr>\n",
              "  </thead>\n",
              "  <tbody>\n",
              "    <tr>\n",
              "      <th>0</th>\n",
              "      <td>11-Aug-17</td>\n",
              "      <td>156.60</td>\n",
              "      <td>158.57</td>\n",
              "      <td>156.07</td>\n",
              "      <td>157.48</td>\n",
              "      <td>26257096</td>\n",
              "    </tr>\n",
              "    <tr>\n",
              "      <th>1</th>\n",
              "      <td>10-Aug-17</td>\n",
              "      <td>159.90</td>\n",
              "      <td>160.00</td>\n",
              "      <td>154.63</td>\n",
              "      <td>155.32</td>\n",
              "      <td>40804273</td>\n",
              "    </tr>\n",
              "    <tr>\n",
              "      <th>2</th>\n",
              "      <td>9-Aug-17</td>\n",
              "      <td>159.26</td>\n",
              "      <td>161.27</td>\n",
              "      <td>159.11</td>\n",
              "      <td>161.06</td>\n",
              "      <td>26131530</td>\n",
              "    </tr>\n",
              "    <tr>\n",
              "      <th>3</th>\n",
              "      <td>8-Aug-17</td>\n",
              "      <td>158.60</td>\n",
              "      <td>161.83</td>\n",
              "      <td>158.27</td>\n",
              "      <td>160.08</td>\n",
              "      <td>36205896</td>\n",
              "    </tr>\n",
              "    <tr>\n",
              "      <th>4</th>\n",
              "      <td>7-Aug-17</td>\n",
              "      <td>157.06</td>\n",
              "      <td>158.92</td>\n",
              "      <td>156.67</td>\n",
              "      <td>158.81</td>\n",
              "      <td>21870321</td>\n",
              "    </tr>\n",
              "  </tbody>\n",
              "</table>\n",
              "</div>\n",
              "    <div class=\"colab-df-buttons\">\n",
              "\n",
              "  <div class=\"colab-df-container\">\n",
              "    <button class=\"colab-df-convert\" onclick=\"convertToInteractive('df-8a5d85b9-cc30-4140-ad47-1ffda969895b')\"\n",
              "            title=\"Convert this dataframe to an interactive table.\"\n",
              "            style=\"display:none;\">\n",
              "\n",
              "  <svg xmlns=\"http://www.w3.org/2000/svg\" height=\"24px\" viewBox=\"0 -960 960 960\">\n",
              "    <path d=\"M120-120v-720h720v720H120Zm60-500h600v-160H180v160Zm220 220h160v-160H400v160Zm0 220h160v-160H400v160ZM180-400h160v-160H180v160Zm440 0h160v-160H620v160ZM180-180h160v-160H180v160Zm440 0h160v-160H620v160Z\"/>\n",
              "  </svg>\n",
              "    </button>\n",
              "\n",
              "  <style>\n",
              "    .colab-df-container {\n",
              "      display:flex;\n",
              "      gap: 12px;\n",
              "    }\n",
              "\n",
              "    .colab-df-convert {\n",
              "      background-color: #E8F0FE;\n",
              "      border: none;\n",
              "      border-radius: 50%;\n",
              "      cursor: pointer;\n",
              "      display: none;\n",
              "      fill: #1967D2;\n",
              "      height: 32px;\n",
              "      padding: 0 0 0 0;\n",
              "      width: 32px;\n",
              "    }\n",
              "\n",
              "    .colab-df-convert:hover {\n",
              "      background-color: #E2EBFA;\n",
              "      box-shadow: 0px 1px 2px rgba(60, 64, 67, 0.3), 0px 1px 3px 1px rgba(60, 64, 67, 0.15);\n",
              "      fill: #174EA6;\n",
              "    }\n",
              "\n",
              "    .colab-df-buttons div {\n",
              "      margin-bottom: 4px;\n",
              "    }\n",
              "\n",
              "    [theme=dark] .colab-df-convert {\n",
              "      background-color: #3B4455;\n",
              "      fill: #D2E3FC;\n",
              "    }\n",
              "\n",
              "    [theme=dark] .colab-df-convert:hover {\n",
              "      background-color: #434B5C;\n",
              "      box-shadow: 0px 1px 3px 1px rgba(0, 0, 0, 0.15);\n",
              "      filter: drop-shadow(0px 1px 2px rgba(0, 0, 0, 0.3));\n",
              "      fill: #FFFFFF;\n",
              "    }\n",
              "  </style>\n",
              "\n",
              "    <script>\n",
              "      const buttonEl =\n",
              "        document.querySelector('#df-8a5d85b9-cc30-4140-ad47-1ffda969895b button.colab-df-convert');\n",
              "      buttonEl.style.display =\n",
              "        google.colab.kernel.accessAllowed ? 'block' : 'none';\n",
              "\n",
              "      async function convertToInteractive(key) {\n",
              "        const element = document.querySelector('#df-8a5d85b9-cc30-4140-ad47-1ffda969895b');\n",
              "        const dataTable =\n",
              "          await google.colab.kernel.invokeFunction('convertToInteractive',\n",
              "                                                    [key], {});\n",
              "        if (!dataTable) return;\n",
              "\n",
              "        const docLinkHtml = 'Like what you see? Visit the ' +\n",
              "          '<a target=\"_blank\" href=https://colab.research.google.com/notebooks/data_table.ipynb>data table notebook</a>'\n",
              "          + ' to learn more about interactive tables.';\n",
              "        element.innerHTML = '';\n",
              "        dataTable['output_type'] = 'display_data';\n",
              "        await google.colab.output.renderOutput(dataTable, element);\n",
              "        const docLink = document.createElement('div');\n",
              "        docLink.innerHTML = docLinkHtml;\n",
              "        element.appendChild(docLink);\n",
              "      }\n",
              "    </script>\n",
              "  </div>\n",
              "\n",
              "\n",
              "<div id=\"df-b42cc787-fbdc-43aa-bbfa-21d2563ee951\">\n",
              "  <button class=\"colab-df-quickchart\" onclick=\"quickchart('df-b42cc787-fbdc-43aa-bbfa-21d2563ee951')\"\n",
              "            title=\"Suggest charts\"\n",
              "            style=\"display:none;\">\n",
              "\n",
              "<svg xmlns=\"http://www.w3.org/2000/svg\" height=\"24px\"viewBox=\"0 0 24 24\"\n",
              "     width=\"24px\">\n",
              "    <g>\n",
              "        <path d=\"M19 3H5c-1.1 0-2 .9-2 2v14c0 1.1.9 2 2 2h14c1.1 0 2-.9 2-2V5c0-1.1-.9-2-2-2zM9 17H7v-7h2v7zm4 0h-2V7h2v10zm4 0h-2v-4h2v4z\"/>\n",
              "    </g>\n",
              "</svg>\n",
              "  </button>\n",
              "\n",
              "<style>\n",
              "  .colab-df-quickchart {\n",
              "      --bg-color: #E8F0FE;\n",
              "      --fill-color: #1967D2;\n",
              "      --hover-bg-color: #E2EBFA;\n",
              "      --hover-fill-color: #174EA6;\n",
              "      --disabled-fill-color: #AAA;\n",
              "      --disabled-bg-color: #DDD;\n",
              "  }\n",
              "\n",
              "  [theme=dark] .colab-df-quickchart {\n",
              "      --bg-color: #3B4455;\n",
              "      --fill-color: #D2E3FC;\n",
              "      --hover-bg-color: #434B5C;\n",
              "      --hover-fill-color: #FFFFFF;\n",
              "      --disabled-bg-color: #3B4455;\n",
              "      --disabled-fill-color: #666;\n",
              "  }\n",
              "\n",
              "  .colab-df-quickchart {\n",
              "    background-color: var(--bg-color);\n",
              "    border: none;\n",
              "    border-radius: 50%;\n",
              "    cursor: pointer;\n",
              "    display: none;\n",
              "    fill: var(--fill-color);\n",
              "    height: 32px;\n",
              "    padding: 0;\n",
              "    width: 32px;\n",
              "  }\n",
              "\n",
              "  .colab-df-quickchart:hover {\n",
              "    background-color: var(--hover-bg-color);\n",
              "    box-shadow: 0 1px 2px rgba(60, 64, 67, 0.3), 0 1px 3px 1px rgba(60, 64, 67, 0.15);\n",
              "    fill: var(--button-hover-fill-color);\n",
              "  }\n",
              "\n",
              "  .colab-df-quickchart-complete:disabled,\n",
              "  .colab-df-quickchart-complete:disabled:hover {\n",
              "    background-color: var(--disabled-bg-color);\n",
              "    fill: var(--disabled-fill-color);\n",
              "    box-shadow: none;\n",
              "  }\n",
              "\n",
              "  .colab-df-spinner {\n",
              "    border: 2px solid var(--fill-color);\n",
              "    border-color: transparent;\n",
              "    border-bottom-color: var(--fill-color);\n",
              "    animation:\n",
              "      spin 1s steps(1) infinite;\n",
              "  }\n",
              "\n",
              "  @keyframes spin {\n",
              "    0% {\n",
              "      border-color: transparent;\n",
              "      border-bottom-color: var(--fill-color);\n",
              "      border-left-color: var(--fill-color);\n",
              "    }\n",
              "    20% {\n",
              "      border-color: transparent;\n",
              "      border-left-color: var(--fill-color);\n",
              "      border-top-color: var(--fill-color);\n",
              "    }\n",
              "    30% {\n",
              "      border-color: transparent;\n",
              "      border-left-color: var(--fill-color);\n",
              "      border-top-color: var(--fill-color);\n",
              "      border-right-color: var(--fill-color);\n",
              "    }\n",
              "    40% {\n",
              "      border-color: transparent;\n",
              "      border-right-color: var(--fill-color);\n",
              "      border-top-color: var(--fill-color);\n",
              "    }\n",
              "    60% {\n",
              "      border-color: transparent;\n",
              "      border-right-color: var(--fill-color);\n",
              "    }\n",
              "    80% {\n",
              "      border-color: transparent;\n",
              "      border-right-color: var(--fill-color);\n",
              "      border-bottom-color: var(--fill-color);\n",
              "    }\n",
              "    90% {\n",
              "      border-color: transparent;\n",
              "      border-bottom-color: var(--fill-color);\n",
              "    }\n",
              "  }\n",
              "</style>\n",
              "\n",
              "  <script>\n",
              "    async function quickchart(key) {\n",
              "      const quickchartButtonEl =\n",
              "        document.querySelector('#' + key + ' button');\n",
              "      quickchartButtonEl.disabled = true;  // To prevent multiple clicks.\n",
              "      quickchartButtonEl.classList.add('colab-df-spinner');\n",
              "      try {\n",
              "        const charts = await google.colab.kernel.invokeFunction(\n",
              "            'suggestCharts', [key], {});\n",
              "      } catch (error) {\n",
              "        console.error('Error during call to suggestCharts:', error);\n",
              "      }\n",
              "      quickchartButtonEl.classList.remove('colab-df-spinner');\n",
              "      quickchartButtonEl.classList.add('colab-df-quickchart-complete');\n",
              "    }\n",
              "    (() => {\n",
              "      let quickchartButtonEl =\n",
              "        document.querySelector('#df-b42cc787-fbdc-43aa-bbfa-21d2563ee951 button');\n",
              "      quickchartButtonEl.style.display =\n",
              "        google.colab.kernel.accessAllowed ? 'block' : 'none';\n",
              "    })();\n",
              "  </script>\n",
              "</div>\n",
              "\n",
              "    </div>\n",
              "  </div>\n"
            ],
            "application/vnd.google.colaboratory.intrinsic+json": {
              "type": "dataframe",
              "variable_name": "df",
              "summary": "{\n  \"name\": \"df\",\n  \"rows\": 1664,\n  \"fields\": [\n    {\n      \"column\": \"Date\",\n      \"properties\": {\n        \"dtype\": \"object\",\n        \"num_unique_values\": 1664,\n        \"samples\": [\n          \"8-Nov-11\",\n          \"9-Dec-16\",\n          \"27-Sep-16\"\n        ],\n        \"semantic_type\": \"\",\n        \"description\": \"\"\n      }\n    },\n    {\n      \"column\": \"Open\",\n      \"properties\": {\n        \"dtype\": \"number\",\n        \"std\": 28.25835972676523,\n        \"min\": 45.24,\n        \"max\": 159.9,\n        \"num_unique_values\": 1522,\n        \"samples\": [\n          126.09,\n          77.24,\n          48.94\n        ],\n        \"semantic_type\": \"\",\n        \"description\": \"\"\n      }\n    },\n    {\n      \"column\": \"High\",\n      \"properties\": {\n        \"dtype\": \"number\",\n        \"std\": 28.42184968381009,\n        \"min\": 45.39,\n        \"max\": 161.83,\n        \"num_unique_values\": 1510,\n        \"samples\": [\n          69.95,\n          111.44,\n          66.3\n        ],\n        \"semantic_type\": \"\",\n        \"description\": \"\"\n      }\n    },\n    {\n      \"column\": \"Low\",\n      \"properties\": {\n        \"dtype\": \"number\",\n        \"std\": 28.094247557075096,\n        \"min\": 44.36,\n        \"max\": 159.11,\n        \"num_unique_values\": 1498,\n        \"samples\": [\n          60.11,\n          53.64,\n          49.79\n        ],\n        \"semantic_type\": \"\",\n        \"description\": \"\"\n      }\n    },\n    {\n      \"column\": \"Close\",\n      \"properties\": {\n        \"dtype\": \"number\",\n        \"std\": 28.27235123140802,\n        \"min\": 45.05,\n        \"max\": 161.06,\n        \"num_unique_values\": 1498,\n        \"samples\": [\n          65.74,\n          51.94,\n          50.1\n        ],\n        \"semantic_type\": \"\",\n        \"description\": \"\"\n      }\n    },\n    {\n      \"column\": \"Volume\",\n      \"properties\": {\n        \"dtype\": \"number\",\n        \"std\": 54461905,\n        \"min\": 11475922,\n        \"max\": 470246700,\n        \"num_unique_values\": 1664,\n        \"samples\": [\n          100109842,\n          34402627,\n          24607412\n        ],\n        \"semantic_type\": \"\",\n        \"description\": \"\"\n      }\n    }\n  ]\n}"
            }
          },
          "metadata": {},
          "execution_count": 4
        }
      ]
    },
    {
      "cell_type": "code",
      "source": [
        "df.shape"
      ],
      "metadata": {
        "execution": {
          "iopub.status.busy": "2021-10-27T14:18:12.083155Z",
          "iopub.execute_input": "2021-10-27T14:18:12.083544Z",
          "iopub.status.idle": "2021-10-27T14:18:12.088894Z",
          "shell.execute_reply.started": "2021-10-27T14:18:12.083509Z",
          "shell.execute_reply": "2021-10-27T14:18:12.088294Z"
        },
        "trusted": true,
        "id": "mdDVW4tiKg0e",
        "colab": {
          "base_uri": "https://localhost:8080/"
        },
        "outputId": "60d2ac02-d26a-4604-aa9f-5c7281e7b39d"
      },
      "execution_count": 5,
      "outputs": [
        {
          "output_type": "execute_result",
          "data": {
            "text/plain": [
              "(1664, 6)"
            ]
          },
          "metadata": {},
          "execution_count": 5
        }
      ]
    },
    {
      "cell_type": "code",
      "source": [
        "df1=df.reset_index()['Close'];df1"
      ],
      "metadata": {
        "execution": {
          "iopub.status.busy": "2021-10-27T14:18:12.090021Z",
          "iopub.execute_input": "2021-10-27T14:18:12.090634Z",
          "iopub.status.idle": "2021-10-27T14:18:12.113555Z",
          "shell.execute_reply.started": "2021-10-27T14:18:12.090589Z",
          "shell.execute_reply": "2021-10-27T14:18:12.11222Z"
        },
        "trusted": true,
        "id": "-FAsXgJHKg0e",
        "colab": {
          "base_uri": "https://localhost:8080/"
        },
        "outputId": "0a0582f9-678f-4f97-c1db-eacc31cd6bfa"
      },
      "execution_count": 6,
      "outputs": [
        {
          "output_type": "execute_result",
          "data": {
            "text/plain": [
              "0       157.48\n",
              "1       155.32\n",
              "2       161.06\n",
              "3       160.08\n",
              "4       158.81\n",
              "         ...  \n",
              "1659     48.02\n",
              "1660     47.68\n",
              "1661     47.71\n",
              "1662     47.33\n",
              "1663     47.08\n",
              "Name: Close, Length: 1664, dtype: float64"
            ]
          },
          "metadata": {},
          "execution_count": 6
        }
      ]
    },
    {
      "cell_type": "code",
      "source": [
        "plt.plot(df1);plt.show()"
      ],
      "metadata": {
        "execution": {
          "iopub.status.busy": "2021-10-27T14:18:12.114878Z",
          "iopub.execute_input": "2021-10-27T14:18:12.115348Z",
          "iopub.status.idle": "2021-10-27T14:18:12.346789Z",
          "shell.execute_reply.started": "2021-10-27T14:18:12.115286Z",
          "shell.execute_reply": "2021-10-27T14:18:12.346039Z"
        },
        "trusted": true,
        "id": "o40hbn3rKg0f",
        "colab": {
          "base_uri": "https://localhost:8080/",
          "height": 430
        },
        "outputId": "98e424b0-ee65-43c1-f131-694759fdb2f0"
      },
      "execution_count": 7,
      "outputs": [
        {
          "output_type": "display_data",
          "data": {
            "text/plain": [
              "<Figure size 640x480 with 1 Axes>"
            ],
            "image/png": "[encoded data removed]"
          },
          "metadata": {}
        }
      ]
    },
    {
      "cell_type": "code",
      "source": [
        "scaler=MinMaxScaler(feature_range=(0,1))\n",
        "df1=scaler.fit_transform(np.array(df1).reshape(-1,1));df1"
      ],
      "metadata": {
        "execution": {
          "iopub.status.busy": "2021-10-27T14:18:12.348063Z",
          "iopub.execute_input": "2021-10-27T14:18:12.348822Z",
          "iopub.status.idle": "2021-10-27T14:18:12.357955Z",
          "shell.execute_reply.started": "2021-10-27T14:18:12.348784Z",
          "shell.execute_reply": "2021-10-27T14:18:12.357283Z"
        },
        "trusted": true,
        "id": "jxnkAi-5Kg0f",
        "colab": {
          "base_uri": "https://localhost:8080/"
        },
        "outputId": "ffaf4859-06d4-4cae-89ad-3e30e794d24a"
      },
      "execution_count": 8,
      "outputs": [
        {
          "output_type": "execute_result",
          "data": {
            "text/plain": [
              "array([[0.96914059],\n",
              "       [0.95052151],\n",
              "       [1.        ],\n",
              "       ...,\n",
              "       [0.02292906],\n",
              "       [0.01965348],\n",
              "       [0.01749849]])"
            ]
          },
          "metadata": {},
          "execution_count": 8
        }
      ]
    },
    {
      "cell_type": "code",
      "source": [
        "##splitting dataset into train and test split\n",
        "training_size=int(len(df1)*0.65)\n",
        "test_size=len(df1)-training_size\n",
        "train_data,test_data=df1[0:training_size,:],df1[training_size:len(df1),:1]\n",
        "print(training_size,test_size)"
      ],
      "metadata": {
        "execution": {
          "iopub.status.busy": "2021-10-27T14:18:12.359497Z",
          "iopub.execute_input": "2021-10-27T14:18:12.360021Z",
          "iopub.status.idle": "2021-10-27T14:18:12.367312Z",
          "shell.execute_reply.started": "2021-10-27T14:18:12.359981Z",
          "shell.execute_reply": "2021-10-27T14:18:12.366301Z"
        },
        "trusted": true,
        "id": "UZgpv91tKg0g",
        "colab": {
          "base_uri": "https://localhost:8080/"
        },
        "outputId": "d7ec45e1-1590-495a-bc6b-8dd62e3addd8"
      },
      "execution_count": 9,
      "outputs": [
        {
          "output_type": "stream",
          "name": "stdout",
          "text": [
            "1081 583\n"
          ]
        }
      ]
    },
    {
      "cell_type": "code",
      "source": [
        "#convert an array of values into a dataset matrix\n",
        "def create_dataset(dataset, time_step=1):\n",
        "    dataX, dataY = [], []\n",
        "    for i in range(len(dataset)-time_step-1):\n",
        "        a = dataset[i:(i+time_step), 0]   ###i=0, 0,1,2,3-----99   100\n",
        "        dataX.append(a)\n",
        "        dataY.append(dataset[i + time_step, 0])\n",
        "    return np.array(dataX), np.array(dataY)"
      ],
      "metadata": {
        "execution": {
          "iopub.status.busy": "2021-10-27T14:18:12.36882Z",
          "iopub.execute_input": "2021-10-27T14:18:12.369702Z",
          "iopub.status.idle": "2021-10-27T14:18:12.377582Z",
          "shell.execute_reply.started": "2021-10-27T14:18:12.369675Z",
          "shell.execute_reply": "2021-10-27T14:18:12.376779Z"
        },
        "trusted": true,
        "id": "oqNUui8-Kg0g"
      },
      "execution_count": 10,
      "outputs": []
    },
    {
      "cell_type": "code",
      "source": [
        "# reshape into X=t,t+1,t+2,t+3 and Y=t+4\n",
        "time_step = 100\n",
        "X_train, y_train = create_dataset(train_data, time_step)\n",
        "X_test, ytest = create_dataset(test_data, time_step)"
      ],
      "metadata": {
        "execution": {
          "iopub.status.busy": "2021-10-27T14:18:12.382313Z",
          "iopub.execute_input": "2021-10-27T14:18:12.382683Z",
          "iopub.status.idle": "2021-10-27T14:18:12.392826Z",
          "shell.execute_reply.started": "2021-10-27T14:18:12.382653Z",
          "shell.execute_reply": "2021-10-27T14:18:12.39183Z"
        },
        "trusted": true,
        "id": "tgLiFnAxKg0h"
      },
      "execution_count": 11,
      "outputs": []
    },
    {
      "cell_type": "code",
      "source": [
        "print(X_train.shape), print(y_train.shape),print(X_test.shape), print(ytest.shape)"
      ],
      "metadata": {
        "execution": {
          "iopub.status.busy": "2021-10-27T14:18:12.394841Z",
          "iopub.execute_input": "2021-10-27T14:18:12.395503Z",
          "iopub.status.idle": "2021-10-27T14:18:12.403876Z",
          "shell.execute_reply.started": "2021-10-27T14:18:12.395469Z",
          "shell.execute_reply": "2021-10-27T14:18:12.40312Z"
        },
        "trusted": true,
        "id": "8MpLuza6Kg0h",
        "colab": {
          "base_uri": "https://localhost:8080/"
        },
        "outputId": "23601db1-b420-402e-afa6-7ff663ca6c63"
      },
      "execution_count": 12,
      "outputs": [
        {
          "output_type": "stream",
          "name": "stdout",
          "text": [
            "(980, 100)\n",
            "(980,)\n",
            "(482, 100)\n",
            "(482,)\n"
          ]
        },
        {
          "output_type": "execute_result",
          "data": {
            "text/plain": [
              "(None, None, None, None)"
            ]
          },
          "metadata": {},
          "execution_count": 12
        }
      ]
    },
    {
      "cell_type": "code",
      "source": [
        "X_train =X_train.reshape(X_train.shape[0],X_train.shape[1] , 1)\n",
        "X_test = X_test.reshape(X_test.shape[0],X_test.shape[1] , 1)"
      ],
      "metadata": {
        "execution": {
          "iopub.status.busy": "2021-10-27T14:18:12.405284Z",
          "iopub.execute_input": "2021-10-27T14:18:12.405776Z",
          "iopub.status.idle": "2021-10-27T14:18:12.411709Z",
          "shell.execute_reply.started": "2021-10-27T14:18:12.405738Z",
          "shell.execute_reply": "2021-10-27T14:18:12.410667Z"
        },
        "trusted": true,
        "id": "eUrElUEOKg0h"
      },
      "execution_count": 13,
      "outputs": []
    },
    {
      "cell_type": "code",
      "source": [
        "model=Sequential()\n",
        "model.add(LSTM(50,return_sequences=True,input_shape=(100,1)))\n",
        "model.add(LSTM(50,return_sequences=True))\n",
        "model.add(LSTM(50))\n",
        "model.add(Dense(1))\n",
        "model.compile(loss='mse',optimizer='adam')\n",
        "model.summary()"
      ],
      "metadata": {
        "execution": {
          "iopub.status.busy": "2021-10-27T14:18:12.413304Z",
          "iopub.execute_input": "2021-10-27T14:18:12.414139Z",
          "iopub.status.idle": "2021-10-27T14:18:15.653309Z",
          "shell.execute_reply.started": "2021-10-27T14:18:12.414088Z",
          "shell.execute_reply": "2021-10-27T14:18:15.65245Z"
        },
        "trusted": true,
        "id": "4kNkgMo6Kg0h",
        "colab": {
          "base_uri": "https://localhost:8080/"
        },
        "outputId": "3e4991a4-eef5-46c5-b28b-b3e41571c751"
      },
      "execution_count": 14,
      "outputs": [
        {
          "output_type": "stream",
          "name": "stdout",
          "text": [
            "Model: \"sequential\"\n",
            "_________________________________________________________________\n",
            " Layer (type)                Output Shape              Param #   \n",
            "=================================================================\n",
            " lstm (LSTM)                 (None, 100, 50)           10400     \n",
            "                                                                 \n",
            " lstm_1 (LSTM)               (None, 100, 50)           20200     \n",
            "                                                                 \n",
            " lstm_2 (LSTM)               (None, 50)                20200     \n",
            "                                                                 \n",
            " dense (Dense)               (None, 1)                 51        \n",
            "                                                                 \n",
            "=================================================================\n",
            "Total params: 50851 (198.64 KB)\n",
            "Trainable params: 50851 (198.64 KB)\n",
            "Non-trainable params: 0 (0.00 Byte)\n",
            "_________________________________________________________________\n"
          ]
        }
      ]
    },
    {
      "cell_type": "code",
      "source": [
        "history=model.fit(X_train,y_train,validation_data=(X_test,ytest),epochs=100,batch_size=64,verbose=0)"
      ],
      "metadata": {
        "execution": {
          "iopub.status.busy": "2021-10-27T14:18:15.654447Z",
          "iopub.execute_input": "2021-10-27T14:18:15.655279Z",
          "iopub.status.idle": "2021-10-27T14:18:49.721099Z",
          "shell.execute_reply.started": "2021-10-27T14:18:15.655225Z",
          "shell.execute_reply": "2021-10-27T14:18:49.720356Z"
        },
        "trusted": true,
        "id": "nXfEbjYKKg0i"
      },
      "execution_count": 15,
      "outputs": []
    },
    {
      "cell_type": "code",
      "source": [
        "# Show the learning curves\n",
        "history_df = pd.DataFrame(history.history)\n",
        "history_df.loc[:, ['loss', 'val_loss']].plot();\n"
      ],
      "metadata": {
        "execution": {
          "iopub.status.busy": "2021-10-27T14:18:49.722387Z",
          "iopub.execute_input": "2021-10-27T14:18:49.722635Z",
          "iopub.status.idle": "2021-10-27T14:18:49.967704Z",
          "shell.execute_reply.started": "2021-10-27T14:18:49.722601Z",
          "shell.execute_reply": "2021-10-27T14:18:49.967034Z"
        },
        "trusted": true,
        "id": "LtknNjM0Kg0i",
        "colab": {
          "base_uri": "https://localhost:8080/",
          "height": 430
        },
        "outputId": "919fd796-18c3-42be-9ec0-f407ac9d02cf"
      },
      "execution_count": 16,
      "outputs": [
        {
          "output_type": "display_data",
          "data": {
            "text/plain": [
              "<Figure size 640x480 with 1 Axes>"
            ],
            "image/png": "[encoded data removed]"
          },
          "metadata": {}
        }
      ]
    },
    {
      "cell_type": "code",
      "source": [
        "train_predict=model.predict(X_train) #prediction\n",
        "test_predict=model.predict(X_test)"
      ],
      "metadata": {
        "execution": {
          "iopub.status.busy": "2021-10-27T14:18:49.969081Z",
          "iopub.execute_input": "2021-10-27T14:18:49.969552Z",
          "iopub.status.idle": "2021-10-27T14:18:51.052201Z",
          "shell.execute_reply.started": "2021-10-27T14:18:49.969514Z",
          "shell.execute_reply": "2021-10-27T14:18:51.051475Z"
        },
        "trusted": true,
        "id": "c9VYJwcrKg0i",
        "colab": {
          "base_uri": "https://localhost:8080/"
        },
        "outputId": "974c6112-3130-48f5-e049-6a0fb51f4caa"
      },
      "execution_count": 17,
      "outputs": [
        {
          "output_type": "stream",
          "name": "stdout",
          "text": [
            "31/31 [==============================] - 2s 36ms/step\n",
            "16/16 [==============================] - 1s 35ms/step\n"
          ]
        }
      ]
    },
    {
      "cell_type": "code",
      "source": [
        "##Transformback to original form\n",
        "train_predict=scaler.inverse_transform(train_predict)\n",
        "test_predict=scaler.inverse_transform(test_predict)"
      ],
      "metadata": {
        "execution": {
          "iopub.status.busy": "2021-10-27T14:18:51.053704Z",
          "iopub.execute_input": "2021-10-27T14:18:51.053947Z",
          "iopub.status.idle": "2021-10-27T14:18:51.058627Z",
          "shell.execute_reply.started": "2021-10-27T14:18:51.053912Z",
          "shell.execute_reply": "2021-10-27T14:18:51.057597Z"
        },
        "trusted": true,
        "id": "yjgr1QXgKg0i"
      },
      "execution_count": 18,
      "outputs": []
    },
    {
      "cell_type": "code",
      "source": [
        "#Calculate RMSE performance metrics\n",
        "from sklearn.metrics import mean_squared_error\n",
        "print(math.sqrt(mean_squared_error(y_train,train_predict)))\n",
        "print(math.sqrt(mean_squared_error(ytest,test_predict)))"
      ],
      "metadata": {
        "execution": {
          "iopub.status.busy": "2021-10-27T14:18:51.060053Z",
          "iopub.execute_input": "2021-10-27T14:18:51.060659Z",
          "iopub.status.idle": "2021-10-27T14:18:51.098738Z",
          "shell.execute_reply.started": "2021-10-27T14:18:51.060623Z",
          "shell.execute_reply": "2021-10-27T14:18:51.09792Z"
        },
        "trusted": true,
        "id": "9fIYuPQrKg0j",
        "colab": {
          "base_uri": "https://localhost:8080/"
        },
        "outputId": "2e3f2705-488d-4e13-8c4d-bdf7799b2dc3"
      },
      "execution_count": 19,
      "outputs": [
        {
          "output_type": "stream",
          "name": "stdout",
          "text": [
            "102.96982435294859\n",
            "69.19377413004598\n"
          ]
        }
      ]
    },
    {
      "cell_type": "code",
      "source": [
        "# shift train predictions for plotting\n",
        "look_back=100\n",
        "trainPredictPlot = np.empty_like(df1)\n",
        "trainPredictPlot[:, :] = np.nan\n",
        "trainPredictPlot[look_back:len(train_predict)+look_back, :] = train_predict\n",
        "# shift test predictions for plotting\n",
        "testPredictPlot = np.empty_like(df1)\n",
        "testPredictPlot[:, :] = np.nan\n",
        "testPredictPlot[len(train_predict)+(look_back*2)+1:len(df1)-1, :] = test_predict\n",
        "# plot baseline and predictions\n",
        "plt.plot(scaler.inverse_transform(df1))\n",
        "plt.plot(trainPredictPlot)\n",
        "plt.plot(testPredictPlot)\n",
        "plt.legend()\n",
        "plt.show()"
      ],
      "metadata": {
        "execution": {
          "iopub.status.busy": "2021-10-27T14:18:51.100083Z",
          "iopub.execute_input": "2021-10-27T14:18:51.100338Z",
          "iopub.status.idle": "2021-10-27T14:18:51.3145Z",
          "shell.execute_reply.started": "2021-10-27T14:18:51.100305Z",
          "shell.execute_reply": "2021-10-27T14:18:51.313793Z"
        },
        "trusted": true,
        "id": "zmP2ZidcKg0j",
        "colab": {
          "base_uri": "https://localhost:8080/",
          "height": 467
        },
        "outputId": "2806062e-18d0-41b5-8378-f32a1aebd120"
      },
      "execution_count": 20,
      "outputs": [
        {
          "output_type": "stream",
          "name": "stderr",
          "text": [
            "WARNING:matplotlib.legend:No artists with labels found to put in legend.  Note that artists whose label start with an underscore are ignored when legend() is called with no argument.\n"
          ]
        },
        {
          "output_type": "display_data",
          "data": {
            "text/plain": [
              "<Figure size 640x480 with 1 Axes>"
            ],
            "image/png": "[encoded data removed]"
          },
          "metadata": {}
        }
      ]
    },
    {
      "cell_type": "code",
      "source": [
        "x_input=test_data[483:].reshape(1,-1) #len(test_data)\n",
        "temp_input=list(x_input)\n",
        "temp_input=temp_input[0].tolist()"
      ],
      "metadata": {
        "execution": {
          "iopub.status.busy": "2021-10-27T14:18:51.31554Z",
          "iopub.execute_input": "2021-10-27T14:18:51.316342Z",
          "iopub.status.idle": "2021-10-27T14:18:51.320636Z",
          "shell.execute_reply.started": "2021-10-27T14:18:51.316305Z",
          "shell.execute_reply": "2021-10-27T14:18:51.319891Z"
        },
        "trusted": true,
        "id": "8blrOSD_Kg0j"
      },
      "execution_count": 21,
      "outputs": []
    },
    {
      "cell_type": "code",
      "source": [
        "# demonstrate prediction for next 10 days\n",
        "lst_output=[]\n",
        "n_steps=100\n",
        "i=0\n",
        "while(i<30):\n",
        "\n",
        "    if(len(temp_input)>100):\n",
        "        #print(temp_input)\n",
        "        x_input=np.array(temp_input[1:])\n",
        "        print(\"{} day input {}\".format(i,x_input))\n",
        "        x_input=x_input.reshape(1,-1)\n",
        "        x_input = x_input.reshape((1, n_steps, 1))\n",
        "        #print(x_input)\n",
        "        yhat = model.predict(x_input, verbose=0)\n",
        "        print(\"{} day output {}\".format(i,yhat))\n",
        "        temp_input.extend(yhat[0].tolist())\n",
        "        temp_input=temp_input[1:]\n",
        "        #print(temp_input)\n",
        "        lst_output.extend(yhat.tolist())\n",
        "        i=i+1\n",
        "    else:\n",
        "        x_input = x_input.reshape((1, n_steps,1))\n",
        "        yhat = model.predict(x_input, verbose=0)\n",
        "        print(yhat[0])\n",
        "        temp_input.extend(yhat[0].tolist())\n",
        "        print(len(temp_input))\n",
        "        lst_output.extend(yhat.tolist())\n",
        "        i=i+1\n",
        "\n",
        "\n",
        "print(lst_output)"
      ],
      "metadata": {
        "execution": {
          "iopub.status.busy": "2021-10-27T14:18:51.321979Z",
          "iopub.execute_input": "2021-10-27T14:18:51.322604Z",
          "iopub.status.idle": "2021-10-27T14:18:52.574735Z",
          "shell.execute_reply.started": "2021-10-27T14:18:51.322523Z",
          "shell.execute_reply": "2021-10-27T14:18:52.573928Z"
        },
        "trusted": true,
        "id": "AUj9X68PKg0j",
        "colab": {
          "base_uri": "https://localhost:8080/"
        },
        "outputId": "c3fb8c13-6449-4c75-9c98-284ea351be63"
      },
      "execution_count": 22,
      "outputs": [
        {
          "output_type": "stream",
          "name": "stdout",
          "text": [
            "[0.03098432]\n",
            "101\n",
            "1 day input [0.02077407 0.02344625 0.02448065 0.03103181 0.03016981 0.02560124\n",
            " 0.02206706 0.03094561 0.03844496 0.03922076 0.04197914 0.03973795\n",
            " 0.03853116 0.03870356 0.04215154 0.04042755 0.03810016 0.04284113\n",
            " 0.03870356 0.04284113 0.04318593 0.04637531 0.04353073 0.03335919\n",
            " 0.02775623 0.02034307 0.01491251 0.02103267 0.02560124 0.02103267\n",
            " 0.01905008 0.02430825 0.02801483 0.02792863 0.02896302 0.0318076\n",
            " 0.03594518 0.04085855 0.04094475 0.04387553 0.04318593 0.04456512\n",
            " 0.03646237 0.02939402 0.0318076  0.02948022 0.01887768 0.02379105\n",
            " 0.01801569 0.03706577 0.04706491 0.04508232 0.03853116 0.04568572\n",
            " 0.04973709 0.04930609 0.05499526 0.05447806 0.04525472 0.04180674\n",
            " 0.04663391 0.04042755 0.03387639 0.03361779 0.02861822 0.04335833\n",
            " 0.05292647 0.05887423 0.05482286 0.05396087 0.05111628 0.0482717\n",
            " 0.05275407 0.0490475  0.04499612 0.03835876 0.03456599 0.03568658\n",
            " 0.03654857 0.02948022 0.02551504 0.03430739 0.03508318 0.0320662\n",
            " 0.02723903 0.01396431 0.02137747 0.02896302 0.03111801 0.04077235\n",
            " 0.03732437 0.03577278 0.032411   0.03335919 0.02560124 0.02267046\n",
            " 0.02292906 0.01965348 0.01749849 0.03098432]\n",
            "1 day output [[0.02993038]]\n",
            "2 day input [0.02344625 0.02448065 0.03103181 0.03016981 0.02560124 0.02206706\n",
            " 0.03094561 0.03844496 0.03922076 0.04197914 0.03973795 0.03853116\n",
            " 0.03870356 0.04215154 0.04042755 0.03810016 0.04284113 0.03870356\n",
            " 0.04284113 0.04318593 0.04637531 0.04353073 0.03335919 0.02775623\n",
            " 0.02034307 0.01491251 0.02103267 0.02560124 0.02103267 0.01905008\n",
            " 0.02430825 0.02801483 0.02792863 0.02896302 0.0318076  0.03594518\n",
            " 0.04085855 0.04094475 0.04387553 0.04318593 0.04456512 0.03646237\n",
            " 0.02939402 0.0318076  0.02948022 0.01887768 0.02379105 0.01801569\n",
            " 0.03706577 0.04706491 0.04508232 0.03853116 0.04568572 0.04973709\n",
            " 0.04930609 0.05499526 0.05447806 0.04525472 0.04180674 0.04663391\n",
            " 0.04042755 0.03387639 0.03361779 0.02861822 0.04335833 0.05292647\n",
            " 0.05887423 0.05482286 0.05396087 0.05111628 0.0482717  0.05275407\n",
            " 0.0490475  0.04499612 0.03835876 0.03456599 0.03568658 0.03654857\n",
            " 0.02948022 0.02551504 0.03430739 0.03508318 0.0320662  0.02723903\n",
            " 0.01396431 0.02137747 0.02896302 0.03111801 0.04077235 0.03732437\n",
            " 0.03577278 0.032411   0.03335919 0.02560124 0.02267046 0.02292906\n",
            " 0.01965348 0.01749849 0.03098432 0.02993038]\n",
            "2 day output [[0.0297916]]\n",
            "3 day input [0.02448065 0.03103181 0.03016981 0.02560124 0.02206706 0.03094561\n",
            " 0.03844496 0.03922076 0.04197914 0.03973795 0.03853116 0.03870356\n",
            " 0.04215154 0.04042755 0.03810016 0.04284113 0.03870356 0.04284113\n",
            " 0.04318593 0.04637531 0.04353073 0.03335919 0.02775623 0.02034307\n",
            " 0.01491251 0.02103267 0.02560124 0.02103267 0.01905008 0.02430825\n",
            " 0.02801483 0.02792863 0.02896302 0.0318076  0.03594518 0.04085855\n",
            " 0.04094475 0.04387553 0.04318593 0.04456512 0.03646237 0.02939402\n",
            " 0.0318076  0.02948022 0.01887768 0.02379105 0.01801569 0.03706577\n",
            " 0.04706491 0.04508232 0.03853116 0.04568572 0.04973709 0.04930609\n",
            " 0.05499526 0.05447806 0.04525472 0.04180674 0.04663391 0.04042755\n",
            " 0.03387639 0.03361779 0.02861822 0.04335833 0.05292647 0.05887423\n",
            " 0.05482286 0.05396087 0.05111628 0.0482717  0.05275407 0.0490475\n",
            " 0.04499612 0.03835876 0.03456599 0.03568658 0.03654857 0.02948022\n",
            " 0.02551504 0.03430739 0.03508318 0.0320662  0.02723903 0.01396431\n",
            " 0.02137747 0.02896302 0.03111801 0.04077235 0.03732437 0.03577278\n",
            " 0.032411   0.03335919 0.02560124 0.02267046 0.02292906 0.01965348\n",
            " 0.01749849 0.03098432 0.02993038 0.0297916 ]\n",
            "3 day output [[0.03025666]]\n",
            "4 day input [0.03103181 0.03016981 0.02560124 0.02206706 0.03094561 0.03844496\n",
            " 0.03922076 0.04197914 0.03973795 0.03853116 0.03870356 0.04215154\n",
            " 0.04042755 0.03810016 0.04284113 0.03870356 0.04284113 0.04318593\n",
            " 0.04637531 0.04353073 0.03335919 0.02775623 0.02034307 0.01491251\n",
            " 0.02103267 0.02560124 0.02103267 0.01905008 0.02430825 0.02801483\n",
            " 0.02792863 0.02896302 0.0318076  0.03594518 0.04085855 0.04094475\n",
            " 0.04387553 0.04318593 0.04456512 0.03646237 0.02939402 0.0318076\n",
            " 0.02948022 0.01887768 0.02379105 0.01801569 0.03706577 0.04706491\n",
            " 0.04508232 0.03853116 0.04568572 0.04973709 0.04930609 0.05499526\n",
            " 0.05447806 0.04525472 0.04180674 0.04663391 0.04042755 0.03387639\n",
            " 0.03361779 0.02861822 0.04335833 0.05292647 0.05887423 0.05482286\n",
            " 0.05396087 0.05111628 0.0482717  0.05275407 0.0490475  0.04499612\n",
            " 0.03835876 0.03456599 0.03568658 0.03654857 0.02948022 0.02551504\n",
            " 0.03430739 0.03508318 0.0320662  0.02723903 0.01396431 0.02137747\n",
            " 0.02896302 0.03111801 0.04077235 0.03732437 0.03577278 0.032411\n",
            " 0.03335919 0.02560124 0.02267046 0.02292906 0.01965348 0.01749849\n",
            " 0.03098432 0.02993038 0.0297916  0.03025666]\n",
            "4 day output [[0.03104564]]\n",
            "5 day input [0.03016981 0.02560124 0.02206706 0.03094561 0.03844496 0.03922076\n",
            " 0.04197914 0.03973795 0.03853116 0.03870356 0.04215154 0.04042755\n",
            " 0.03810016 0.04284113 0.03870356 0.04284113 0.04318593 0.04637531\n",
            " 0.04353073 0.03335919 0.02775623 0.02034307 0.01491251 0.02103267\n",
            " 0.02560124 0.02103267 0.01905008 0.02430825 0.02801483 0.02792863\n",
            " 0.02896302 0.0318076  0.03594518 0.04085855 0.04094475 0.04387553\n",
            " 0.04318593 0.04456512 0.03646237 0.02939402 0.0318076  0.02948022\n",
            " 0.01887768 0.02379105 0.01801569 0.03706577 0.04706491 0.04508232\n",
            " 0.03853116 0.04568572 0.04973709 0.04930609 0.05499526 0.05447806\n",
            " 0.04525472 0.04180674 0.04663391 0.04042755 0.03387639 0.03361779\n",
            " 0.02861822 0.04335833 0.05292647 0.05887423 0.05482286 0.05396087\n",
            " 0.05111628 0.0482717  0.05275407 0.0490475  0.04499612 0.03835876\n",
            " 0.03456599 0.03568658 0.03654857 0.02948022 0.02551504 0.03430739\n",
            " 0.03508318 0.0320662  0.02723903 0.01396431 0.02137747 0.02896302\n",
            " 0.03111801 0.04077235 0.03732437 0.03577278 0.032411   0.03335919\n",
            " 0.02560124 0.02267046 0.02292906 0.01965348 0.01749849 0.03098432\n",
            " 0.02993038 0.0297916  0.03025666 0.03104564]\n",
            "5 day output [[0.0319751]]\n",
            "6 day input [0.02560124 0.02206706 0.03094561 0.03844496 0.03922076 0.04197914\n",
            " 0.03973795 0.03853116 0.03870356 0.04215154 0.04042755 0.03810016\n",
            " 0.04284113 0.03870356 0.04284113 0.04318593 0.04637531 0.04353073\n",
            " 0.03335919 0.02775623 0.02034307 0.01491251 0.02103267 0.02560124\n",
            " 0.02103267 0.01905008 0.02430825 0.02801483 0.02792863 0.02896302\n",
            " 0.0318076  0.03594518 0.04085855 0.04094475 0.04387553 0.04318593\n",
            " 0.04456512 0.03646237 0.02939402 0.0318076  0.02948022 0.01887768\n",
            " 0.02379105 0.01801569 0.03706577 0.04706491 0.04508232 0.03853116\n",
            " 0.04568572 0.04973709 0.04930609 0.05499526 0.05447806 0.04525472\n",
            " 0.04180674 0.04663391 0.04042755 0.03387639 0.03361779 0.02861822\n",
            " 0.04335833 0.05292647 0.05887423 0.05482286 0.05396087 0.05111628\n",
            " 0.0482717  0.05275407 0.0490475  0.04499612 0.03835876 0.03456599\n",
            " 0.03568658 0.03654857 0.02948022 0.02551504 0.03430739 0.03508318\n",
            " 0.0320662  0.02723903 0.01396431 0.02137747 0.02896302 0.03111801\n",
            " 0.04077235 0.03732437 0.03577278 0.032411   0.03335919 0.02560124\n",
            " 0.02267046 0.02292906 0.01965348 0.01749849 0.03098432 0.02993038\n",
            " 0.0297916  0.03025666 0.03104564 0.0319751 ]\n",
            "6 day output [[0.03294498]]\n",
            "7 day input [0.02206706 0.03094561 0.03844496 0.03922076 0.04197914 0.03973795\n",
            " 0.03853116 0.03870356 0.04215154 0.04042755 0.03810016 0.04284113\n",
            " 0.03870356 0.04284113 0.04318593 0.04637531 0.04353073 0.03335919\n",
            " 0.02775623 0.02034307 0.01491251 0.02103267 0.02560124 0.02103267\n",
            " 0.01905008 0.02430825 0.02801483 0.02792863 0.02896302 0.0318076\n",
            " 0.03594518 0.04085855 0.04094475 0.04387553 0.04318593 0.04456512\n",
            " 0.03646237 0.02939402 0.0318076  0.02948022 0.01887768 0.02379105\n",
            " 0.01801569 0.03706577 0.04706491 0.04508232 0.03853116 0.04568572\n",
            " 0.04973709 0.04930609 0.05499526 0.05447806 0.04525472 0.04180674\n",
            " 0.04663391 0.04042755 0.03387639 0.03361779 0.02861822 0.04335833\n",
            " 0.05292647 0.05887423 0.05482286 0.05396087 0.05111628 0.0482717\n",
            " 0.05275407 0.0490475  0.04499612 0.03835876 0.03456599 0.03568658\n",
            " 0.03654857 0.02948022 0.02551504 0.03430739 0.03508318 0.0320662\n",
            " 0.02723903 0.01396431 0.02137747 0.02896302 0.03111801 0.04077235\n",
            " 0.03732437 0.03577278 0.032411   0.03335919 0.02560124 0.02267046\n",
            " 0.02292906 0.01965348 0.01749849 0.03098432 0.02993038 0.0297916\n",
            " 0.03025666 0.03104564 0.0319751  0.03294498]\n",
            "7 day output [[0.03390888]]\n",
            "8 day input [0.03094561 0.03844496 0.03922076 0.04197914 0.03973795 0.03853116\n",
            " 0.03870356 0.04215154 0.04042755 0.03810016 0.04284113 0.03870356\n",
            " 0.04284113 0.04318593 0.04637531 0.04353073 0.03335919 0.02775623\n",
            " 0.02034307 0.01491251 0.02103267 0.02560124 0.02103267 0.01905008\n",
            " 0.02430825 0.02801483 0.02792863 0.02896302 0.0318076  0.03594518\n",
            " 0.04085855 0.04094475 0.04387553 0.04318593 0.04456512 0.03646237\n",
            " 0.02939402 0.0318076  0.02948022 0.01887768 0.02379105 0.01801569\n",
            " 0.03706577 0.04706491 0.04508232 0.03853116 0.04568572 0.04973709\n",
            " 0.04930609 0.05499526 0.05447806 0.04525472 0.04180674 0.04663391\n",
            " 0.04042755 0.03387639 0.03361779 0.02861822 0.04335833 0.05292647\n",
            " 0.05887423 0.05482286 0.05396087 0.05111628 0.0482717  0.05275407\n",
            " 0.0490475  0.04499612 0.03835876 0.03456599 0.03568658 0.03654857\n",
            " 0.02948022 0.02551504 0.03430739 0.03508318 0.0320662  0.02723903\n",
            " 0.01396431 0.02137747 0.02896302 0.03111801 0.04077235 0.03732437\n",
            " 0.03577278 0.032411   0.03335919 0.02560124 0.02267046 0.02292906\n",
            " 0.01965348 0.01749849 0.03098432 0.02993038 0.0297916  0.03025666\n",
            " 0.03104564 0.0319751  0.03294498 0.03390888]\n",
            "8 day output [[0.0348494]]\n",
            "9 day input [0.03844496 0.03922076 0.04197914 0.03973795 0.03853116 0.03870356\n",
            " 0.04215154 0.04042755 0.03810016 0.04284113 0.03870356 0.04284113\n",
            " 0.04318593 0.04637531 0.04353073 0.03335919 0.02775623 0.02034307\n",
            " 0.01491251 0.02103267 0.02560124 0.02103267 0.01905008 0.02430825\n",
            " 0.02801483 0.02792863 0.02896302 0.0318076  0.03594518 0.04085855\n",
            " 0.04094475 0.04387553 0.04318593 0.04456512 0.03646237 0.02939402\n",
            " 0.0318076  0.02948022 0.01887768 0.02379105 0.01801569 0.03706577\n",
            " 0.04706491 0.04508232 0.03853116 0.04568572 0.04973709 0.04930609\n",
            " 0.05499526 0.05447806 0.04525472 0.04180674 0.04663391 0.04042755\n",
            " 0.03387639 0.03361779 0.02861822 0.04335833 0.05292647 0.05887423\n",
            " 0.05482286 0.05396087 0.05111628 0.0482717  0.05275407 0.0490475\n",
            " 0.04499612 0.03835876 0.03456599 0.03568658 0.03654857 0.02948022\n",
            " 0.02551504 0.03430739 0.03508318 0.0320662  0.02723903 0.01396431\n",
            " 0.02137747 0.02896302 0.03111801 0.04077235 0.03732437 0.03577278\n",
            " 0.032411   0.03335919 0.02560124 0.02267046 0.02292906 0.01965348\n",
            " 0.01749849 0.03098432 0.02993038 0.0297916  0.03025666 0.03104564\n",
            " 0.0319751  0.03294498 0.03390888 0.0348494 ]\n",
            "9 day output [[0.03576262]]\n",
            "10 day input [0.03922076 0.04197914 0.03973795 0.03853116 0.03870356 0.04215154\n",
            " 0.04042755 0.03810016 0.04284113 0.03870356 0.04284113 0.04318593\n",
            " 0.04637531 0.04353073 0.03335919 0.02775623 0.02034307 0.01491251\n",
            " 0.02103267 0.02560124 0.02103267 0.01905008 0.02430825 0.02801483\n",
            " 0.02792863 0.02896302 0.0318076  0.03594518 0.04085855 0.04094475\n",
            " 0.04387553 0.04318593 0.04456512 0.03646237 0.02939402 0.0318076\n",
            " 0.02948022 0.01887768 0.02379105 0.01801569 0.03706577 0.04706491\n",
            " 0.04508232 0.03853116 0.04568572 0.04973709 0.04930609 0.05499526\n",
            " 0.05447806 0.04525472 0.04180674 0.04663391 0.04042755 0.03387639\n",
            " 0.03361779 0.02861822 0.04335833 0.05292647 0.05887423 0.05482286\n",
            " 0.05396087 0.05111628 0.0482717  0.05275407 0.0490475  0.04499612\n",
            " 0.03835876 0.03456599 0.03568658 0.03654857 0.02948022 0.02551504\n",
            " 0.03430739 0.03508318 0.0320662  0.02723903 0.01396431 0.02137747\n",
            " 0.02896302 0.03111801 0.04077235 0.03732437 0.03577278 0.032411\n",
            " 0.03335919 0.02560124 0.02267046 0.02292906 0.01965348 0.01749849\n",
            " 0.03098432 0.02993038 0.0297916  0.03025666 0.03104564 0.0319751\n",
            " 0.03294498 0.03390888 0.0348494  0.03576262]\n",
            "10 day output [[0.03664974]]\n",
            "11 day input [0.04197914 0.03973795 0.03853116 0.03870356 0.04215154 0.04042755\n",
            " 0.03810016 0.04284113 0.03870356 0.04284113 0.04318593 0.04637531\n",
            " 0.04353073 0.03335919 0.02775623 0.02034307 0.01491251 0.02103267\n",
            " 0.02560124 0.02103267 0.01905008 0.02430825 0.02801483 0.02792863\n",
            " 0.02896302 0.0318076  0.03594518 0.04085855 0.04094475 0.04387553\n",
            " 0.04318593 0.04456512 0.03646237 0.02939402 0.0318076  0.02948022\n",
            " 0.01887768 0.02379105 0.01801569 0.03706577 0.04706491 0.04508232\n",
            " 0.03853116 0.04568572 0.04973709 0.04930609 0.05499526 0.05447806\n",
            " 0.04525472 0.04180674 0.04663391 0.04042755 0.03387639 0.03361779\n",
            " 0.02861822 0.04335833 0.05292647 0.05887423 0.05482286 0.05396087\n",
            " 0.05111628 0.0482717  0.05275407 0.0490475  0.04499612 0.03835876\n",
            " 0.03456599 0.03568658 0.03654857 0.02948022 0.02551504 0.03430739\n",
            " 0.03508318 0.0320662  0.02723903 0.01396431 0.02137747 0.02896302\n",
            " 0.03111801 0.04077235 0.03732437 0.03577278 0.032411   0.03335919\n",
            " 0.02560124 0.02267046 0.02292906 0.01965348 0.01749849 0.03098432\n",
            " 0.02993038 0.0297916  0.03025666 0.03104564 0.0319751  0.03294498\n",
            " 0.03390888 0.0348494  0.03576262 0.03664974]\n",
            "11 day output [[0.03751343]]\n",
            "12 day input [0.03973795 0.03853116 0.03870356 0.04215154 0.04042755 0.03810016\n",
            " 0.04284113 0.03870356 0.04284113 0.04318593 0.04637531 0.04353073\n",
            " 0.03335919 0.02775623 0.02034307 0.01491251 0.02103267 0.02560124\n",
            " 0.02103267 0.01905008 0.02430825 0.02801483 0.02792863 0.02896302\n",
            " 0.0318076  0.03594518 0.04085855 0.04094475 0.04387553 0.04318593\n",
            " 0.04456512 0.03646237 0.02939402 0.0318076  0.02948022 0.01887768\n",
            " 0.02379105 0.01801569 0.03706577 0.04706491 0.04508232 0.03853116\n",
            " 0.04568572 0.04973709 0.04930609 0.05499526 0.05447806 0.04525472\n",
            " 0.04180674 0.04663391 0.04042755 0.03387639 0.03361779 0.02861822\n",
            " 0.04335833 0.05292647 0.05887423 0.05482286 0.05396087 0.05111628\n",
            " 0.0482717  0.05275407 0.0490475  0.04499612 0.03835876 0.03456599\n",
            " 0.03568658 0.03654857 0.02948022 0.02551504 0.03430739 0.03508318\n",
            " 0.0320662  0.02723903 0.01396431 0.02137747 0.02896302 0.03111801\n",
            " 0.04077235 0.03732437 0.03577278 0.032411   0.03335919 0.02560124\n",
            " 0.02267046 0.02292906 0.01965348 0.01749849 0.03098432 0.02993038\n",
            " 0.0297916  0.03025666 0.03104564 0.0319751  0.03294498 0.03390888\n",
            " 0.0348494  0.03576262 0.03664974 0.03751343]\n",
            "12 day output [[0.03835633]]\n",
            "13 day input [0.03853116 0.03870356 0.04215154 0.04042755 0.03810016 0.04284113\n",
            " 0.03870356 0.04284113 0.04318593 0.04637531 0.04353073 0.03335919\n",
            " 0.02775623 0.02034307 0.01491251 0.02103267 0.02560124 0.02103267\n",
            " 0.01905008 0.02430825 0.02801483 0.02792863 0.02896302 0.0318076\n",
            " 0.03594518 0.04085855 0.04094475 0.04387553 0.04318593 0.04456512\n",
            " 0.03646237 0.02939402 0.0318076  0.02948022 0.01887768 0.02379105\n",
            " 0.01801569 0.03706577 0.04706491 0.04508232 0.03853116 0.04568572\n",
            " 0.04973709 0.04930609 0.05499526 0.05447806 0.04525472 0.04180674\n",
            " 0.04663391 0.04042755 0.03387639 0.03361779 0.02861822 0.04335833\n",
            " 0.05292647 0.05887423 0.05482286 0.05396087 0.05111628 0.0482717\n",
            " 0.05275407 0.0490475  0.04499612 0.03835876 0.03456599 0.03568658\n",
            " 0.03654857 0.02948022 0.02551504 0.03430739 0.03508318 0.0320662\n",
            " 0.02723903 0.01396431 0.02137747 0.02896302 0.03111801 0.04077235\n",
            " 0.03732437 0.03577278 0.032411   0.03335919 0.02560124 0.02267046\n",
            " 0.02292906 0.01965348 0.01749849 0.03098432 0.02993038 0.0297916\n",
            " 0.03025666 0.03104564 0.0319751  0.03294498 0.03390888 0.0348494\n",
            " 0.03576262 0.03664974 0.03751343 0.03835633]\n",
            "13 day output [[0.03918063]]\n",
            "14 day input [0.03870356 0.04215154 0.04042755 0.03810016 0.04284113 0.03870356\n",
            " 0.04284113 0.04318593 0.04637531 0.04353073 0.03335919 0.02775623\n",
            " 0.02034307 0.01491251 0.02103267 0.02560124 0.02103267 0.01905008\n",
            " 0.02430825 0.02801483 0.02792863 0.02896302 0.0318076  0.03594518\n",
            " 0.04085855 0.04094475 0.04387553 0.04318593 0.04456512 0.03646237\n",
            " 0.02939402 0.0318076  0.02948022 0.01887768 0.02379105 0.01801569\n",
            " 0.03706577 0.04706491 0.04508232 0.03853116 0.04568572 0.04973709\n",
            " 0.04930609 0.05499526 0.05447806 0.04525472 0.04180674 0.04663391\n",
            " 0.04042755 0.03387639 0.03361779 0.02861822 0.04335833 0.05292647\n",
            " 0.05887423 0.05482286 0.05396087 0.05111628 0.0482717  0.05275407\n",
            " 0.0490475  0.04499612 0.03835876 0.03456599 0.03568658 0.03654857\n",
            " 0.02948022 0.02551504 0.03430739 0.03508318 0.0320662  0.02723903\n",
            " 0.01396431 0.02137747 0.02896302 0.03111801 0.04077235 0.03732437\n",
            " 0.03577278 0.032411   0.03335919 0.02560124 0.02267046 0.02292906\n",
            " 0.01965348 0.01749849 0.03098432 0.02993038 0.0297916  0.03025666\n",
            " 0.03104564 0.0319751  0.03294498 0.03390888 0.0348494  0.03576262\n",
            " 0.03664974 0.03751343 0.03835633 0.03918063]\n",
            "14 day output [[0.03998818]]\n",
            "15 day input [0.04215154 0.04042755 0.03810016 0.04284113 0.03870356 0.04284113\n",
            " 0.04318593 0.04637531 0.04353073 0.03335919 0.02775623 0.02034307\n",
            " 0.01491251 0.02103267 0.02560124 0.02103267 0.01905008 0.02430825\n",
            " 0.02801483 0.02792863 0.02896302 0.0318076  0.03594518 0.04085855\n",
            " 0.04094475 0.04387553 0.04318593 0.04456512 0.03646237 0.02939402\n",
            " 0.0318076  0.02948022 0.01887768 0.02379105 0.01801569 0.03706577\n",
            " 0.04706491 0.04508232 0.03853116 0.04568572 0.04973709 0.04930609\n",
            " 0.05499526 0.05447806 0.04525472 0.04180674 0.04663391 0.04042755\n",
            " 0.03387639 0.03361779 0.02861822 0.04335833 0.05292647 0.05887423\n",
            " 0.05482286 0.05396087 0.05111628 0.0482717  0.05275407 0.0490475\n",
            " 0.04499612 0.03835876 0.03456599 0.03568658 0.03654857 0.02948022\n",
            " 0.02551504 0.03430739 0.03508318 0.0320662  0.02723903 0.01396431\n",
            " 0.02137747 0.02896302 0.03111801 0.04077235 0.03732437 0.03577278\n",
            " 0.032411   0.03335919 0.02560124 0.02267046 0.02292906 0.01965348\n",
            " 0.01749849 0.03098432 0.02993038 0.0297916  0.03025666 0.03104564\n",
            " 0.0319751  0.03294498 0.03390888 0.0348494  0.03576262 0.03664974\n",
            " 0.03751343 0.03835633 0.03918063 0.03998818]\n",
            "15 day output [[0.04078041]]\n",
            "16 day input [0.04042755 0.03810016 0.04284113 0.03870356 0.04284113 0.04318593\n",
            " 0.04637531 0.04353073 0.03335919 0.02775623 0.02034307 0.01491251\n",
            " 0.02103267 0.02560124 0.02103267 0.01905008 0.02430825 0.02801483\n",
            " 0.02792863 0.02896302 0.0318076  0.03594518 0.04085855 0.04094475\n",
            " 0.04387553 0.04318593 0.04456512 0.03646237 0.02939402 0.0318076\n",
            " 0.02948022 0.01887768 0.02379105 0.01801569 0.03706577 0.04706491\n",
            " 0.04508232 0.03853116 0.04568572 0.04973709 0.04930609 0.05499526\n",
            " 0.05447806 0.04525472 0.04180674 0.04663391 0.04042755 0.03387639\n",
            " 0.03361779 0.02861822 0.04335833 0.05292647 0.05887423 0.05482286\n",
            " 0.05396087 0.05111628 0.0482717  0.05275407 0.0490475  0.04499612\n",
            " 0.03835876 0.03456599 0.03568658 0.03654857 0.02948022 0.02551504\n",
            " 0.03430739 0.03508318 0.0320662  0.02723903 0.01396431 0.02137747\n",
            " 0.02896302 0.03111801 0.04077235 0.03732437 0.03577278 0.032411\n",
            " 0.03335919 0.02560124 0.02267046 0.02292906 0.01965348 0.01749849\n",
            " 0.03098432 0.02993038 0.0297916  0.03025666 0.03104564 0.0319751\n",
            " 0.03294498 0.03390888 0.0348494  0.03576262 0.03664974 0.03751343\n",
            " 0.03835633 0.03918063 0.03998818 0.04078041]\n",
            "16 day output [[0.04155862]]\n",
            "17 day input [0.03810016 0.04284113 0.03870356 0.04284113 0.04318593 0.04637531\n",
            " 0.04353073 0.03335919 0.02775623 0.02034307 0.01491251 0.02103267\n",
            " 0.02560124 0.02103267 0.01905008 0.02430825 0.02801483 0.02792863\n",
            " 0.02896302 0.0318076  0.03594518 0.04085855 0.04094475 0.04387553\n",
            " 0.04318593 0.04456512 0.03646237 0.02939402 0.0318076  0.02948022\n",
            " 0.01887768 0.02379105 0.01801569 0.03706577 0.04706491 0.04508232\n",
            " 0.03853116 0.04568572 0.04973709 0.04930609 0.05499526 0.05447806\n",
            " 0.04525472 0.04180674 0.04663391 0.04042755 0.03387639 0.03361779\n",
            " 0.02861822 0.04335833 0.05292647 0.05887423 0.05482286 0.05396087\n",
            " 0.05111628 0.0482717  0.05275407 0.0490475  0.04499612 0.03835876\n",
            " 0.03456599 0.03568658 0.03654857 0.02948022 0.02551504 0.03430739\n",
            " 0.03508318 0.0320662  0.02723903 0.01396431 0.02137747 0.02896302\n",
            " 0.03111801 0.04077235 0.03732437 0.03577278 0.032411   0.03335919\n",
            " 0.02560124 0.02267046 0.02292906 0.01965348 0.01749849 0.03098432\n",
            " 0.02993038 0.0297916  0.03025666 0.03104564 0.0319751  0.03294498\n",
            " 0.03390888 0.0348494  0.03576262 0.03664974 0.03751343 0.03835633\n",
            " 0.03918063 0.03998818 0.04078041 0.04155862]\n",
            "17 day output [[0.04232378]]\n",
            "18 day input [0.04284113 0.03870356 0.04284113 0.04318593 0.04637531 0.04353073\n",
            " 0.03335919 0.02775623 0.02034307 0.01491251 0.02103267 0.02560124\n",
            " 0.02103267 0.01905008 0.02430825 0.02801483 0.02792863 0.02896302\n",
            " 0.0318076  0.03594518 0.04085855 0.04094475 0.04387553 0.04318593\n",
            " 0.04456512 0.03646237 0.02939402 0.0318076  0.02948022 0.01887768\n",
            " 0.02379105 0.01801569 0.03706577 0.04706491 0.04508232 0.03853116\n",
            " 0.04568572 0.04973709 0.04930609 0.05499526 0.05447806 0.04525472\n",
            " 0.04180674 0.04663391 0.04042755 0.03387639 0.03361779 0.02861822\n",
            " 0.04335833 0.05292647 0.05887423 0.05482286 0.05396087 0.05111628\n",
            " 0.0482717  0.05275407 0.0490475  0.04499612 0.03835876 0.03456599\n",
            " 0.03568658 0.03654857 0.02948022 0.02551504 0.03430739 0.03508318\n",
            " 0.0320662  0.02723903 0.01396431 0.02137747 0.02896302 0.03111801\n",
            " 0.04077235 0.03732437 0.03577278 0.032411   0.03335919 0.02560124\n",
            " 0.02267046 0.02292906 0.01965348 0.01749849 0.03098432 0.02993038\n",
            " 0.0297916  0.03025666 0.03104564 0.0319751  0.03294498 0.03390888\n",
            " 0.0348494  0.03576262 0.03664974 0.03751343 0.03835633 0.03918063\n",
            " 0.03998818 0.04078041 0.04155862 0.04232378]\n",
            "18 day output [[0.04307681]]\n",
            "19 day input [0.03870356 0.04284113 0.04318593 0.04637531 0.04353073 0.03335919\n",
            " 0.02775623 0.02034307 0.01491251 0.02103267 0.02560124 0.02103267\n",
            " 0.01905008 0.02430825 0.02801483 0.02792863 0.02896302 0.0318076\n",
            " 0.03594518 0.04085855 0.04094475 0.04387553 0.04318593 0.04456512\n",
            " 0.03646237 0.02939402 0.0318076  0.02948022 0.01887768 0.02379105\n",
            " 0.01801569 0.03706577 0.04706491 0.04508232 0.03853116 0.04568572\n",
            " 0.04973709 0.04930609 0.05499526 0.05447806 0.04525472 0.04180674\n",
            " 0.04663391 0.04042755 0.03387639 0.03361779 0.02861822 0.04335833\n",
            " 0.05292647 0.05887423 0.05482286 0.05396087 0.05111628 0.0482717\n",
            " 0.05275407 0.0490475  0.04499612 0.03835876 0.03456599 0.03568658\n",
            " 0.03654857 0.02948022 0.02551504 0.03430739 0.03508318 0.0320662\n",
            " 0.02723903 0.01396431 0.02137747 0.02896302 0.03111801 0.04077235\n",
            " 0.03732437 0.03577278 0.032411   0.03335919 0.02560124 0.02267046\n",
            " 0.02292906 0.01965348 0.01749849 0.03098432 0.02993038 0.0297916\n",
            " 0.03025666 0.03104564 0.0319751  0.03294498 0.03390888 0.0348494\n",
            " 0.03576262 0.03664974 0.03751343 0.03835633 0.03918063 0.03998818\n",
            " 0.04078041 0.04155862 0.04232378 0.04307681]\n",
            "19 day output [[0.04381844]]\n",
            "20 day input [0.04284113 0.04318593 0.04637531 0.04353073 0.03335919 0.02775623\n",
            " 0.02034307 0.01491251 0.02103267 0.02560124 0.02103267 0.01905008\n",
            " 0.02430825 0.02801483 0.02792863 0.02896302 0.0318076  0.03594518\n",
            " 0.04085855 0.04094475 0.04387553 0.04318593 0.04456512 0.03646237\n",
            " 0.02939402 0.0318076  0.02948022 0.01887768 0.02379105 0.01801569\n",
            " 0.03706577 0.04706491 0.04508232 0.03853116 0.04568572 0.04973709\n",
            " 0.04930609 0.05499526 0.05447806 0.04525472 0.04180674 0.04663391\n",
            " 0.04042755 0.03387639 0.03361779 0.02861822 0.04335833 0.05292647\n",
            " 0.05887423 0.05482286 0.05396087 0.05111628 0.0482717  0.05275407\n",
            " 0.0490475  0.04499612 0.03835876 0.03456599 0.03568658 0.03654857\n",
            " 0.02948022 0.02551504 0.03430739 0.03508318 0.0320662  0.02723903\n",
            " 0.01396431 0.02137747 0.02896302 0.03111801 0.04077235 0.03732437\n",
            " 0.03577278 0.032411   0.03335919 0.02560124 0.02267046 0.02292906\n",
            " 0.01965348 0.01749849 0.03098432 0.02993038 0.0297916  0.03025666\n",
            " 0.03104564 0.0319751  0.03294498 0.03390888 0.0348494  0.03576262\n",
            " 0.03664974 0.03751343 0.03835633 0.03918063 0.03998818 0.04078041\n",
            " 0.04155862 0.04232378 0.04307681 0.04381844]\n",
            "20 day output [[0.04454932]]\n",
            "21 day input [0.04318593 0.04637531 0.04353073 0.03335919 0.02775623 0.02034307\n",
            " 0.01491251 0.02103267 0.02560124 0.02103267 0.01905008 0.02430825\n",
            " 0.02801483 0.02792863 0.02896302 0.0318076  0.03594518 0.04085855\n",
            " 0.04094475 0.04387553 0.04318593 0.04456512 0.03646237 0.02939402\n",
            " 0.0318076  0.02948022 0.01887768 0.02379105 0.01801569 0.03706577\n",
            " 0.04706491 0.04508232 0.03853116 0.04568572 0.04973709 0.04930609\n",
            " 0.05499526 0.05447806 0.04525472 0.04180674 0.04663391 0.04042755\n",
            " 0.03387639 0.03361779 0.02861822 0.04335833 0.05292647 0.05887423\n",
            " 0.05482286 0.05396087 0.05111628 0.0482717  0.05275407 0.0490475\n",
            " 0.04499612 0.03835876 0.03456599 0.03568658 0.03654857 0.02948022\n",
            " 0.02551504 0.03430739 0.03508318 0.0320662  0.02723903 0.01396431\n",
            " 0.02137747 0.02896302 0.03111801 0.04077235 0.03732437 0.03577278\n",
            " 0.032411   0.03335919 0.02560124 0.02267046 0.02292906 0.01965348\n",
            " 0.01749849 0.03098432 0.02993038 0.0297916  0.03025666 0.03104564\n",
            " 0.0319751  0.03294498 0.03390888 0.0348494  0.03576262 0.03664974\n",
            " 0.03751343 0.03835633 0.03918063 0.03998818 0.04078041 0.04155862\n",
            " 0.04232378 0.04307681 0.04381844 0.04454932]\n",
            "21 day output [[0.04526999]]\n",
            "22 day input [0.04637531 0.04353073 0.03335919 0.02775623 0.02034307 0.01491251\n",
            " 0.02103267 0.02560124 0.02103267 0.01905008 0.02430825 0.02801483\n",
            " 0.02792863 0.02896302 0.0318076  0.03594518 0.04085855 0.04094475\n",
            " 0.04387553 0.04318593 0.04456512 0.03646237 0.02939402 0.0318076\n",
            " 0.02948022 0.01887768 0.02379105 0.01801569 0.03706577 0.04706491\n",
            " 0.04508232 0.03853116 0.04568572 0.04973709 0.04930609 0.05499526\n",
            " 0.05447806 0.04525472 0.04180674 0.04663391 0.04042755 0.03387639\n",
            " 0.03361779 0.02861822 0.04335833 0.05292647 0.05887423 0.05482286\n",
            " 0.05396087 0.05111628 0.0482717  0.05275407 0.0490475  0.04499612\n",
            " 0.03835876 0.03456599 0.03568658 0.03654857 0.02948022 0.02551504\n",
            " 0.03430739 0.03508318 0.0320662  0.02723903 0.01396431 0.02137747\n",
            " 0.02896302 0.03111801 0.04077235 0.03732437 0.03577278 0.032411\n",
            " 0.03335919 0.02560124 0.02267046 0.02292906 0.01965348 0.01749849\n",
            " 0.03098432 0.02993038 0.0297916  0.03025666 0.03104564 0.0319751\n",
            " 0.03294498 0.03390888 0.0348494  0.03576262 0.03664974 0.03751343\n",
            " 0.03835633 0.03918063 0.03998818 0.04078041 0.04155862 0.04232378\n",
            " 0.04307681 0.04381844 0.04454932 0.04526999]\n",
            "22 day output [[0.0459809]]\n",
            "23 day input [0.04353073 0.03335919 0.02775623 0.02034307 0.01491251 0.02103267\n",
            " 0.02560124 0.02103267 0.01905008 0.02430825 0.02801483 0.02792863\n",
            " 0.02896302 0.0318076  0.03594518 0.04085855 0.04094475 0.04387553\n",
            " 0.04318593 0.04456512 0.03646237 0.02939402 0.0318076  0.02948022\n",
            " 0.01887768 0.02379105 0.01801569 0.03706577 0.04706491 0.04508232\n",
            " 0.03853116 0.04568572 0.04973709 0.04930609 0.05499526 0.05447806\n",
            " 0.04525472 0.04180674 0.04663391 0.04042755 0.03387639 0.03361779\n",
            " 0.02861822 0.04335833 0.05292647 0.05887423 0.05482286 0.05396087\n",
            " 0.05111628 0.0482717  0.05275407 0.0490475  0.04499612 0.03835876\n",
            " 0.03456599 0.03568658 0.03654857 0.02948022 0.02551504 0.03430739\n",
            " 0.03508318 0.0320662  0.02723903 0.01396431 0.02137747 0.02896302\n",
            " 0.03111801 0.04077235 0.03732437 0.03577278 0.032411   0.03335919\n",
            " 0.02560124 0.02267046 0.02292906 0.01965348 0.01749849 0.03098432\n",
            " 0.02993038 0.0297916  0.03025666 0.03104564 0.0319751  0.03294498\n",
            " 0.03390888 0.0348494  0.03576262 0.03664974 0.03751343 0.03835633\n",
            " 0.03918063 0.03998818 0.04078041 0.04155862 0.04232378 0.04307681\n",
            " 0.04381844 0.04454932 0.04526999 0.0459809 ]\n",
            "23 day output [[0.04668245]]\n",
            "24 day input [0.03335919 0.02775623 0.02034307 0.01491251 0.02103267 0.02560124\n",
            " 0.02103267 0.01905008 0.02430825 0.02801483 0.02792863 0.02896302\n",
            " 0.0318076  0.03594518 0.04085855 0.04094475 0.04387553 0.04318593\n",
            " 0.04456512 0.03646237 0.02939402 0.0318076  0.02948022 0.01887768\n",
            " 0.02379105 0.01801569 0.03706577 0.04706491 0.04508232 0.03853116\n",
            " 0.04568572 0.04973709 0.04930609 0.05499526 0.05447806 0.04525472\n",
            " 0.04180674 0.04663391 0.04042755 0.03387639 0.03361779 0.02861822\n",
            " 0.04335833 0.05292647 0.05887423 0.05482286 0.05396087 0.05111628\n",
            " 0.0482717  0.05275407 0.0490475  0.04499612 0.03835876 0.03456599\n",
            " 0.03568658 0.03654857 0.02948022 0.02551504 0.03430739 0.03508318\n",
            " 0.0320662  0.02723903 0.01396431 0.02137747 0.02896302 0.03111801\n",
            " 0.04077235 0.03732437 0.03577278 0.032411   0.03335919 0.02560124\n",
            " 0.02267046 0.02292906 0.01965348 0.01749849 0.03098432 0.02993038\n",
            " 0.0297916  0.03025666 0.03104564 0.0319751  0.03294498 0.03390888\n",
            " 0.0348494  0.03576262 0.03664974 0.03751343 0.03835633 0.03918063\n",
            " 0.03998818 0.04078041 0.04155862 0.04232378 0.04307681 0.04381844\n",
            " 0.04454932 0.04526999 0.0459809  0.04668245]\n",
            "24 day output [[0.04737502]]\n",
            "25 day input [0.02775623 0.02034307 0.01491251 0.02103267 0.02560124 0.02103267\n",
            " 0.01905008 0.02430825 0.02801483 0.02792863 0.02896302 0.0318076\n",
            " 0.03594518 0.04085855 0.04094475 0.04387553 0.04318593 0.04456512\n",
            " 0.03646237 0.02939402 0.0318076  0.02948022 0.01887768 0.02379105\n",
            " 0.01801569 0.03706577 0.04706491 0.04508232 0.03853116 0.04568572\n",
            " 0.04973709 0.04930609 0.05499526 0.05447806 0.04525472 0.04180674\n",
            " 0.04663391 0.04042755 0.03387639 0.03361779 0.02861822 0.04335833\n",
            " 0.05292647 0.05887423 0.05482286 0.05396087 0.05111628 0.0482717\n",
            " 0.05275407 0.0490475  0.04499612 0.03835876 0.03456599 0.03568658\n",
            " 0.03654857 0.02948022 0.02551504 0.03430739 0.03508318 0.0320662\n",
            " 0.02723903 0.01396431 0.02137747 0.02896302 0.03111801 0.04077235\n",
            " 0.03732437 0.03577278 0.032411   0.03335919 0.02560124 0.02267046\n",
            " 0.02292906 0.01965348 0.01749849 0.03098432 0.02993038 0.0297916\n",
            " 0.03025666 0.03104564 0.0319751  0.03294498 0.03390888 0.0348494\n",
            " 0.03576262 0.03664974 0.03751343 0.03835633 0.03918063 0.03998818\n",
            " 0.04078041 0.04155862 0.04232378 0.04307681 0.04381844 0.04454932\n",
            " 0.04526999 0.0459809  0.04668245 0.04737502]\n",
            "25 day output [[0.04805889]]\n",
            "26 day input [0.02034307 0.01491251 0.02103267 0.02560124 0.02103267 0.01905008\n",
            " 0.02430825 0.02801483 0.02792863 0.02896302 0.0318076  0.03594518\n",
            " 0.04085855 0.04094475 0.04387553 0.04318593 0.04456512 0.03646237\n",
            " 0.02939402 0.0318076  0.02948022 0.01887768 0.02379105 0.01801569\n",
            " 0.03706577 0.04706491 0.04508232 0.03853116 0.04568572 0.04973709\n",
            " 0.04930609 0.05499526 0.05447806 0.04525472 0.04180674 0.04663391\n",
            " 0.04042755 0.03387639 0.03361779 0.02861822 0.04335833 0.05292647\n",
            " 0.05887423 0.05482286 0.05396087 0.05111628 0.0482717  0.05275407\n",
            " 0.0490475  0.04499612 0.03835876 0.03456599 0.03568658 0.03654857\n",
            " 0.02948022 0.02551504 0.03430739 0.03508318 0.0320662  0.02723903\n",
            " 0.01396431 0.02137747 0.02896302 0.03111801 0.04077235 0.03732437\n",
            " 0.03577278 0.032411   0.03335919 0.02560124 0.02267046 0.02292906\n",
            " 0.01965348 0.01749849 0.03098432 0.02993038 0.0297916  0.03025666\n",
            " 0.03104564 0.0319751  0.03294498 0.03390888 0.0348494  0.03576262\n",
            " 0.03664974 0.03751343 0.03835633 0.03918063 0.03998818 0.04078041\n",
            " 0.04155862 0.04232378 0.04307681 0.04381844 0.04454932 0.04526999\n",
            " 0.0459809  0.04668245 0.04737502 0.04805889]\n",
            "26 day output [[0.04873431]]\n",
            "27 day input [0.01491251 0.02103267 0.02560124 0.02103267 0.01905008 0.02430825\n",
            " 0.02801483 0.02792863 0.02896302 0.0318076  0.03594518 0.04085855\n",
            " 0.04094475 0.04387553 0.04318593 0.04456512 0.03646237 0.02939402\n",
            " 0.0318076  0.02948022 0.01887768 0.02379105 0.01801569 0.03706577\n",
            " 0.04706491 0.04508232 0.03853116 0.04568572 0.04973709 0.04930609\n",
            " 0.05499526 0.05447806 0.04525472 0.04180674 0.04663391 0.04042755\n",
            " 0.03387639 0.03361779 0.02861822 0.04335833 0.05292647 0.05887423\n",
            " 0.05482286 0.05396087 0.05111628 0.0482717  0.05275407 0.0490475\n",
            " 0.04499612 0.03835876 0.03456599 0.03568658 0.03654857 0.02948022\n",
            " 0.02551504 0.03430739 0.03508318 0.0320662  0.02723903 0.01396431\n",
            " 0.02137747 0.02896302 0.03111801 0.04077235 0.03732437 0.03577278\n",
            " 0.032411   0.03335919 0.02560124 0.02267046 0.02292906 0.01965348\n",
            " 0.01749849 0.03098432 0.02993038 0.0297916  0.03025666 0.03104564\n",
            " 0.0319751  0.03294498 0.03390888 0.0348494  0.03576262 0.03664974\n",
            " 0.03751343 0.03835633 0.03918063 0.03998818 0.04078041 0.04155862\n",
            " 0.04232378 0.04307681 0.04381844 0.04454932 0.04526999 0.0459809\n",
            " 0.04668245 0.04737502 0.04805889 0.04873431]\n",
            "27 day output [[0.04940159]]\n",
            "28 day input [0.02103267 0.02560124 0.02103267 0.01905008 0.02430825 0.02801483\n",
            " 0.02792863 0.02896302 0.0318076  0.03594518 0.04085855 0.04094475\n",
            " 0.04387553 0.04318593 0.04456512 0.03646237 0.02939402 0.0318076\n",
            " 0.02948022 0.01887768 0.02379105 0.01801569 0.03706577 0.04706491\n",
            " 0.04508232 0.03853116 0.04568572 0.04973709 0.04930609 0.05499526\n",
            " 0.05447806 0.04525472 0.04180674 0.04663391 0.04042755 0.03387639\n",
            " 0.03361779 0.02861822 0.04335833 0.05292647 0.05887423 0.05482286\n",
            " 0.05396087 0.05111628 0.0482717  0.05275407 0.0490475  0.04499612\n",
            " 0.03835876 0.03456599 0.03568658 0.03654857 0.02948022 0.02551504\n",
            " 0.03430739 0.03508318 0.0320662  0.02723903 0.01396431 0.02137747\n",
            " 0.02896302 0.03111801 0.04077235 0.03732437 0.03577278 0.032411\n",
            " 0.03335919 0.02560124 0.02267046 0.02292906 0.01965348 0.01749849\n",
            " 0.03098432 0.02993038 0.0297916  0.03025666 0.03104564 0.0319751\n",
            " 0.03294498 0.03390888 0.0348494  0.03576262 0.03664974 0.03751343\n",
            " 0.03835633 0.03918063 0.03998818 0.04078041 0.04155862 0.04232378\n",
            " 0.04307681 0.04381844 0.04454932 0.04526999 0.0459809  0.04668245\n",
            " 0.04737502 0.04805889 0.04873431 0.04940159]\n",
            "28 day output [[0.0500609]]\n",
            "29 day input [0.02560124 0.02103267 0.01905008 0.02430825 0.02801483 0.02792863\n",
            " 0.02896302 0.0318076  0.03594518 0.04085855 0.04094475 0.04387553\n",
            " 0.04318593 0.04456512 0.03646237 0.02939402 0.0318076  0.02948022\n",
            " 0.01887768 0.02379105 0.01801569 0.03706577 0.04706491 0.04508232\n",
            " 0.03853116 0.04568572 0.04973709 0.04930609 0.05499526 0.05447806\n",
            " 0.04525472 0.04180674 0.04663391 0.04042755 0.03387639 0.03361779\n",
            " 0.02861822 0.04335833 0.05292647 0.05887423 0.05482286 0.05396087\n",
            " 0.05111628 0.0482717  0.05275407 0.0490475  0.04499612 0.03835876\n",
            " 0.03456599 0.03568658 0.03654857 0.02948022 0.02551504 0.03430739\n",
            " 0.03508318 0.0320662  0.02723903 0.01396431 0.02137747 0.02896302\n",
            " 0.03111801 0.04077235 0.03732437 0.03577278 0.032411   0.03335919\n",
            " 0.02560124 0.02267046 0.02292906 0.01965348 0.01749849 0.03098432\n",
            " 0.02993038 0.0297916  0.03025666 0.03104564 0.0319751  0.03294498\n",
            " 0.03390888 0.0348494  0.03576262 0.03664974 0.03751343 0.03835633\n",
            " 0.03918063 0.03998818 0.04078041 0.04155862 0.04232378 0.04307681\n",
            " 0.04381844 0.04454932 0.04526999 0.0459809  0.04668245 0.04737502\n",
            " 0.04805889 0.04873431 0.04940159 0.0500609 ]\n",
            "29 day output [[0.05071247]]\n",
            "[[0.030984319746494293], [0.02993038296699524], [0.02979160100221634], [0.030256662517786026], [0.031045638024806976], [0.03197510167956352], [0.03294497728347778], [0.03390888497233391], [0.03484939783811569], [0.035762615501880646], [0.036649737507104874], [0.037513427436351776], [0.03835632652044296], [0.03918062895536423], [0.03998817503452301], [0.04078041389584541], [0.04155862331390381], [0.04232378304004669], [0.043076809495687485], [0.043818436563014984], [0.04454931616783142], [0.04526999220252037], [0.045980896800756454], [0.0466824546456337], [0.047375019639730453], [0.0480588860809803], [0.04873431473970413], [0.04940158873796463], [0.05006089806556702], [0.050712473690509796]]\n"
          ]
        }
      ]
    },
    {
      "cell_type": "code",
      "source": [
        "day_new=np.arange(1,101)\n",
        "day_pred=np.arange(101,131)"
      ],
      "metadata": {
        "execution": {
          "iopub.status.busy": "2021-10-27T14:18:52.576139Z",
          "iopub.execute_input": "2021-10-27T14:18:52.576424Z",
          "iopub.status.idle": "2021-10-27T14:18:52.58112Z",
          "shell.execute_reply.started": "2021-10-27T14:18:52.576385Z",
          "shell.execute_reply": "2021-10-27T14:18:52.57996Z"
        },
        "trusted": true,
        "id": "_xwwBrXzKg0j"
      },
      "execution_count": 23,
      "outputs": []
    },
    {
      "cell_type": "code",
      "source": [
        "plt.plot(day_new,scaler.inverse_transform(df1[1564:])) #len(df1)\n",
        "plt.plot(day_pred,scaler.inverse_transform(lst_output))"
      ],
      "metadata": {
        "execution": {
          "iopub.status.busy": "2021-10-27T14:18:52.582718Z",
          "iopub.execute_input": "2021-10-27T14:18:52.58323Z",
          "iopub.status.idle": "2021-10-27T14:18:52.798783Z",
          "shell.execute_reply.started": "2021-10-27T14:18:52.583188Z",
          "shell.execute_reply": "2021-10-27T14:18:52.798058Z"
        },
        "trusted": true,
        "id": "gaoUFhb1Kg0l",
        "colab": {
          "base_uri": "https://localhost:8080/",
          "height": 447
        },
        "outputId": "1b1c9498-e82b-4ce1-a5d9-06d1a65517e6"
      },
      "execution_count": 24,
      "outputs": [
        {
          "output_type": "execute_result",
          "data": {
            "text/plain": [
              "[<matplotlib.lines.Line2D at 0x7cb664dda800>]"
            ]
          },
          "metadata": {},
          "execution_count": 24
        },
        {
          "output_type": "display_data",
          "data": {
            "text/plain": [
              "<Figure size 640x480 with 1 Axes>"
            ],
            "image/png": "[encoded data removed]"
          },
          "metadata": {}
        }
      ]
    },
    {
      "cell_type": "code",
      "source": [
        "df3=df1.tolist()\n",
        "df3.extend(lst_output)\n",
        "df3=scaler.inverse_transform(df3).tolist()\n",
        "plt.plot(df3[1600:])"
      ],
      "metadata": {
        "execution": {
          "iopub.status.busy": "2021-10-27T14:19:48.679917Z",
          "iopub.execute_input": "2021-10-27T14:19:48.680188Z",
          "iopub.status.idle": "2021-10-27T14:19:48.876849Z",
          "shell.execute_reply.started": "2021-10-27T14:19:48.680157Z",
          "shell.execute_reply": "2021-10-27T14:19:48.876101Z"
        },
        "trusted": true,
        "id": "QQ3zaNHoKg0m",
        "colab": {
          "base_uri": "https://localhost:8080/",
          "height": 447
        },
        "outputId": "7283c7a3-2658-45fa-f620-3db0680c2a29"
      },
      "execution_count": 25,
      "outputs": [
        {
          "output_type": "execute_result",
          "data": {
            "text/plain": [
              "[<matplotlib.lines.Line2D at 0x7cb665aedde0>]"
            ]
          },
          "metadata": {},
          "execution_count": 25
        },
        {
          "output_type": "display_data",
          "data": {
            "text/plain": [
              "<Figure size 640x480 with 1 Axes>"
            ],
            "image/png": "[encoded data removed]"
          },
          "metadata": {}
        }
      ]
    },
    {
      "cell_type": "code",
      "source": [
        "plt.plot(df3)"
      ],
      "metadata": {
        "execution": {
          "iopub.status.busy": "2021-10-27T14:20:00.77917Z",
          "iopub.execute_input": "2021-10-27T14:20:00.779714Z",
          "iopub.status.idle": "2021-10-27T14:20:01.006078Z",
          "shell.execute_reply.started": "2021-10-27T14:20:00.779678Z",
          "shell.execute_reply": "2021-10-27T14:20:01.005101Z"
        },
        "trusted": true,
        "id": "nm70RmtEKg0m",
        "colab": {
          "base_uri": "https://localhost:8080/",
          "height": 447
        },
        "outputId": "72fb924f-9588-4085-aa8f-a768a8aed3f7"
      },
      "execution_count": 26,
      "outputs": [
        {
          "output_type": "execute_result",
          "data": {
            "text/plain": [
              "[<matplotlib.lines.Line2D at 0x7cb6544faf80>]"
            ]
          },
          "metadata": {},
          "execution_count": 26
        },
        {
          "output_type": "display_data",
          "data": {
            "text/plain": [
              "<Figure size 640x480 with 1 Axes>"
            ],
            "image/png": "[encoded data removed]"
          },
          "metadata": {}
        }
      ]
    }
  ]
}