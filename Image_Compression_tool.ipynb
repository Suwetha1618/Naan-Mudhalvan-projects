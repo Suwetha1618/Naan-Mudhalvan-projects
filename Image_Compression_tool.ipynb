{
  "metadata": {
    "kernelspec": {
      "language": "python",
      "display_name": "Python 3",
      "name": "python3"
    },
    "language_info": {
      "pygments_lexer": "ipython3",
      "nbconvert_exporter": "python",
      "version": "3.6.4",
      "file_extension": ".py",
      "codemirror_mode": {
        "name": "ipython",
        "version": 3
      },
      "name": "python",
      "mimetype": "text/x-python"
    },
    "colab": {
      "provenance": [],
      "include_colab_link": true
    }
  },
  "nbformat_minor": 0,
  "nbformat": 4,
  "cells": [
    {
      "cell_type": "markdown",
      "metadata": {
        "id": "view-in-github",
        "colab_type": "text"
      },
      "source": [
        "<a href=\"https://colab.research.google.com/github/Suwetha1618/Naan-Mudhalvan-projects/blob/main/Image_Compression_tool.ipynb\" target=\"_parent\"><img src=\"https://colab.research.google.com/assets/colab-badge.svg\" alt=\"Open In Colab\"/></a>"
      ]
    },
    {
      "cell_type": "markdown",
      "source": [
        "### Import Libraries"
      ],
      "metadata": {
        "id": "1n4sIyJslbca"
      }
    },
    {
      "cell_type": "code",
      "source": [
        "import numpy as np\n",
        "import matplotlib.pyplot as plt\n",
        "from keras import Sequential\n",
        "from keras.layers import Dense, Conv2D, MaxPooling2D, UpSampling2D\n",
        "from keras.datasets import mnist"
      ],
      "metadata": {
        "execution": {
          "iopub.status.busy": "2022-07-09T12:32:56.716228Z",
          "iopub.execute_input": "2022-07-09T12:32:56.71665Z",
          "iopub.status.idle": "2022-07-09T12:32:56.722023Z",
          "shell.execute_reply.started": "2022-07-09T12:32:56.716614Z",
          "shell.execute_reply": "2022-07-09T12:32:56.721203Z"
        },
        "trusted": true,
        "id": "yZzFPtSHlbcc"
      },
      "execution_count": 1,
      "outputs": []
    },
    {
      "cell_type": "markdown",
      "source": [
        "### Load the Dataset"
      ],
      "metadata": {
        "id": "3P7IO5welbcf"
      }
    },
    {
      "cell_type": "code",
      "source": [
        "(x_train, _), (x_test, _) = mnist.load_data()"
      ],
      "metadata": {
        "execution": {
          "iopub.status.busy": "2022-07-09T12:32:56.919328Z",
          "iopub.execute_input": "2022-07-09T12:32:56.920113Z",
          "iopub.status.idle": "2022-07-09T12:32:57.248003Z",
          "shell.execute_reply.started": "2022-07-09T12:32:56.920074Z",
          "shell.execute_reply": "2022-07-09T12:32:57.247083Z"
        },
        "trusted": true,
        "id": "iT73v-Ralbcg",
        "outputId": "c42c5673-a06c-497d-ea21-a5e2f6d03edc",
        "colab": {
          "base_uri": "https://localhost:8080/"
        }
      },
      "execution_count": 2,
      "outputs": [
        {
          "output_type": "stream",
          "name": "stdout",
          "text": [
            "Downloading data from https://storage.googleapis.com/tensorflow/tf-keras-datasets/mnist.npz\n",
            "11490434/11490434 [==============================] - 0s 0us/step\n"
          ]
        }
      ]
    },
    {
      "cell_type": "code",
      "source": [
        "# normalize the image data\n",
        "x_train = x_train.astype('float32') / 255\n",
        "x_test = x_test.astype('float32') / 255"
      ],
      "metadata": {
        "execution": {
          "iopub.status.busy": "2022-07-09T12:32:57.2498Z",
          "iopub.execute_input": "2022-07-09T12:32:57.2509Z",
          "iopub.status.idle": "2022-07-09T12:32:57.332892Z",
          "shell.execute_reply.started": "2022-07-09T12:32:57.250859Z",
          "shell.execute_reply": "2022-07-09T12:32:57.331724Z"
        },
        "trusted": true,
        "id": "pDSoA-mDlbch"
      },
      "execution_count": 3,
      "outputs": []
    },
    {
      "cell_type": "code",
      "source": [
        "# reshape in the input data for the model\n",
        "x_train = x_train.reshape(len(x_train), 28, 28, 1)\n",
        "x_test = x_test.reshape(len(x_test), 28, 28, 1)\n",
        "x_test.shape"
      ],
      "metadata": {
        "execution": {
          "iopub.status.busy": "2022-07-09T12:32:57.337329Z",
          "iopub.execute_input": "2022-07-09T12:32:57.337691Z",
          "iopub.status.idle": "2022-07-09T12:32:57.345073Z",
          "shell.execute_reply.started": "2022-07-09T12:32:57.337658Z",
          "shell.execute_reply": "2022-07-09T12:32:57.344035Z"
        },
        "trusted": true,
        "id": "HeeepxQ6lbci",
        "outputId": "5d7bc48a-07c3-48cc-e660-8e5adaea7ef8",
        "colab": {
          "base_uri": "https://localhost:8080/"
        }
      },
      "execution_count": 4,
      "outputs": [
        {
          "output_type": "execute_result",
          "data": {
            "text/plain": [
              "(10000, 28, 28, 1)"
            ]
          },
          "metadata": {},
          "execution_count": 4
        }
      ]
    },
    {
      "cell_type": "markdown",
      "source": [
        "### Exploratory Data Analysis"
      ],
      "metadata": {
        "id": "YScd6AXVlbcj"
      }
    },
    {
      "cell_type": "code",
      "source": [
        "# randomly select input image\n",
        "index = np.random.randint(len(x_test))\n",
        "# plot the image\n",
        "plt.imshow(x_test[index].reshape(28,28))\n",
        "plt.gray()"
      ],
      "metadata": {
        "execution": {
          "iopub.status.busy": "2022-07-09T12:32:57.462651Z",
          "iopub.execute_input": "2022-07-09T12:32:57.463139Z",
          "iopub.status.idle": "2022-07-09T12:32:57.637883Z",
          "shell.execute_reply.started": "2022-07-09T12:32:57.463092Z",
          "shell.execute_reply": "2022-07-09T12:32:57.637138Z"
        },
        "trusted": true,
        "id": "vvJ9XzG_lbck",
        "outputId": "bba10bef-4b87-4e4c-e389-995abe02a6fd",
        "colab": {
          "base_uri": "https://localhost:8080/",
          "height": 430
        }
      },
      "execution_count": 5,
      "outputs": [
        {
          "output_type": "display_data",
          "data": {
            "text/plain": [
              "<Figure size 640x480 with 1 Axes>"
            ],
            "image/png": "[encoded data removed]"
          },
          "metadata": {}
        }
      ]
    },
    {
      "cell_type": "code",
      "source": [
        "# randomly select input image\n",
        "index = np.random.randint(len(x_test))\n",
        "# plot the image\n",
        "plt.imshow(x_test[index].reshape(28,28))\n",
        "plt.gray()"
      ],
      "metadata": {
        "execution": {
          "iopub.status.busy": "2022-07-09T12:32:57.639284Z",
          "iopub.execute_input": "2022-07-09T12:32:57.639731Z",
          "iopub.status.idle": "2022-07-09T12:32:57.818516Z",
          "shell.execute_reply.started": "2022-07-09T12:32:57.639702Z",
          "shell.execute_reply": "2022-07-09T12:32:57.817364Z"
        },
        "trusted": true,
        "id": "ho_wdoY2lbcm",
        "outputId": "7f1669f8-5d8b-428c-fd14-af86c1f58d04",
        "colab": {
          "base_uri": "https://localhost:8080/",
          "height": 430
        }
      },
      "execution_count": 6,
      "outputs": [
        {
          "output_type": "display_data",
          "data": {
            "text/plain": [
              "<Figure size 640x480 with 1 Axes>"
            ],
            "image/png": "[encoded data removed]"
          },
          "metadata": {}
        }
      ]
    },
    {
      "cell_type": "code",
      "source": [
        "# randomly select input image\n",
        "index = np.random.randint(len(x_test))\n",
        "# plot the image\n",
        "plt.imshow(x_test[index].reshape(28,28))\n",
        "plt.gray()"
      ],
      "metadata": {
        "execution": {
          "iopub.status.busy": "2022-07-09T12:32:57.820608Z",
          "iopub.execute_input": "2022-07-09T12:32:57.820941Z",
          "iopub.status.idle": "2022-07-09T12:32:58.00339Z",
          "shell.execute_reply.started": "2022-07-09T12:32:57.820911Z",
          "shell.execute_reply": "2022-07-09T12:32:58.002593Z"
        },
        "trusted": true,
        "id": "cqTWgCH_lbcn",
        "outputId": "0487b948-1442-4d01-a897-53d75886d957",
        "colab": {
          "base_uri": "https://localhost:8080/",
          "height": 430
        }
      },
      "execution_count": 7,
      "outputs": [
        {
          "output_type": "display_data",
          "data": {
            "text/plain": [
              "<Figure size 640x480 with 1 Axes>"
            ],
            "image/png": "[encoded data removed]"
          },
          "metadata": {}
        }
      ]
    },
    {
      "cell_type": "markdown",
      "source": [
        "### Model Creation"
      ],
      "metadata": {
        "id": "3EMLpv2Ylbcn"
      }
    },
    {
      "cell_type": "code",
      "source": [
        "model = Sequential([\n",
        "                    # encoder network\n",
        "                    Conv2D(32, 3, activation='relu', padding='same', input_shape=(28, 28, 1)),\n",
        "                    MaxPooling2D(2, padding='same'),\n",
        "                    Conv2D(16, 3, activation='relu', padding='same'),\n",
        "                    MaxPooling2D(2, padding='same'),\n",
        "                    # decoder network\n",
        "                    Conv2D(16, 3, activation='relu', padding='same'),\n",
        "                    UpSampling2D(2),\n",
        "                    Conv2D(32, 3, activation='relu', padding='same'),\n",
        "                    UpSampling2D(2),\n",
        "                    # output layer\n",
        "                    Conv2D(1, 3, activation='sigmoid', padding='same')\n",
        "])\n",
        "\n",
        "model.compile(optimizer='adam', loss='binary_crossentropy')\n",
        "model.summary()"
      ],
      "metadata": {
        "execution": {
          "iopub.status.busy": "2022-07-09T12:32:58.004403Z",
          "iopub.execute_input": "2022-07-09T12:32:58.004939Z",
          "iopub.status.idle": "2022-07-09T12:32:58.079194Z",
          "shell.execute_reply.started": "2022-07-09T12:32:58.004904Z",
          "shell.execute_reply": "2022-07-09T12:32:58.07806Z"
        },
        "trusted": true,
        "id": "xLqRvrqzlbco",
        "outputId": "ce24c82d-852c-4f17-da56-40a68711963d",
        "colab": {
          "base_uri": "https://localhost:8080/"
        }
      },
      "execution_count": 8,
      "outputs": [
        {
          "output_type": "stream",
          "name": "stdout",
          "text": [
            "Model: \"sequential\"\n",
            "_________________________________________________________________\n",
            " Layer (type)                Output Shape              Param #   \n",
            "=================================================================\n",
            " conv2d (Conv2D)             (None, 28, 28, 32)        320       \n",
            "                                                                 \n",
            " max_pooling2d (MaxPooling2  (None, 14, 14, 32)        0         \n",
            " D)                                                              \n",
            "                                                                 \n",
            " conv2d_1 (Conv2D)           (None, 14, 14, 16)        4624      \n",
            "                                                                 \n",
            " max_pooling2d_1 (MaxPoolin  (None, 7, 7, 16)          0         \n",
            " g2D)                                                            \n",
            "                                                                 \n",
            " conv2d_2 (Conv2D)           (None, 7, 7, 16)          2320      \n",
            "                                                                 \n",
            " up_sampling2d (UpSampling2  (None, 14, 14, 16)        0         \n",
            " D)                                                              \n",
            "                                                                 \n",
            " conv2d_3 (Conv2D)           (None, 14, 14, 32)        4640      \n",
            "                                                                 \n",
            " up_sampling2d_1 (UpSamplin  (None, 28, 28, 32)        0         \n",
            " g2D)                                                            \n",
            "                                                                 \n",
            " conv2d_4 (Conv2D)           (None, 28, 28, 1)         289       \n",
            "                                                                 \n",
            "=================================================================\n",
            "Total params: 12193 (47.63 KB)\n",
            "Trainable params: 12193 (47.63 KB)\n",
            "Non-trainable params: 0 (0.00 Byte)\n",
            "_________________________________________________________________\n"
          ]
        }
      ]
    },
    {
      "cell_type": "code",
      "source": [
        "# train the model\n",
        "model.fit(x_train, x_train, epochs=20, batch_size=256, validation_data=(x_test, x_test))"
      ],
      "metadata": {
        "execution": {
          "iopub.status.busy": "2022-07-09T12:32:58.081895Z",
          "iopub.execute_input": "2022-07-09T12:32:58.082901Z",
          "iopub.status.idle": "2022-07-09T12:41:24.20342Z",
          "shell.execute_reply.started": "2022-07-09T12:32:58.082865Z",
          "shell.execute_reply": "2022-07-09T12:41:24.202593Z"
        },
        "trusted": true,
        "id": "vcvLJ0holbcq",
        "outputId": "766d3574-d933-4e1b-c3d2-e23b122ef6cb",
        "colab": {
          "base_uri": "https://localhost:8080/"
        }
      },
      "execution_count": 9,
      "outputs": [
        {
          "output_type": "stream",
          "name": "stdout",
          "text": [
            "Epoch 1/20\n",
            "235/235 [==============================] - 100s 420ms/step - loss: 0.1713 - val_loss: 0.0889\n",
            "Epoch 2/20\n",
            "235/235 [==============================] - 99s 420ms/step - loss: 0.0840 - val_loss: 0.0794\n",
            "Epoch 3/20\n",
            "235/235 [==============================] - 99s 420ms/step - loss: 0.0783 - val_loss: 0.0758\n",
            "Epoch 4/20\n",
            "235/235 [==============================] - 103s 440ms/step - loss: 0.0756 - val_loss: 0.0741\n",
            "Epoch 5/20\n",
            "235/235 [==============================] - 97s 415ms/step - loss: 0.0742 - val_loss: 0.0730\n",
            "Epoch 6/20\n",
            "235/235 [==============================] - 101s 430ms/step - loss: 0.0731 - val_loss: 0.0720\n",
            "Epoch 7/20\n",
            "235/235 [==============================] - 100s 426ms/step - loss: 0.0723 - val_loss: 0.0714\n",
            "Epoch 8/20\n",
            "235/235 [==============================] - 98s 416ms/step - loss: 0.0717 - val_loss: 0.0708\n",
            "Epoch 9/20\n",
            "235/235 [==============================] - 100s 424ms/step - loss: 0.0712 - val_loss: 0.0705\n",
            "Epoch 10/20\n",
            "235/235 [==============================] - 98s 416ms/step - loss: 0.0707 - val_loss: 0.0700\n",
            "Epoch 11/20\n",
            "235/235 [==============================] - 100s 424ms/step - loss: 0.0704 - val_loss: 0.0696\n",
            "Epoch 12/20\n",
            "235/235 [==============================] - 99s 423ms/step - loss: 0.0700 - val_loss: 0.0693\n",
            "Epoch 13/20\n",
            "235/235 [==============================] - 99s 422ms/step - loss: 0.0697 - val_loss: 0.0690\n",
            "Epoch 14/20\n",
            "235/235 [==============================] - 97s 413ms/step - loss: 0.0694 - val_loss: 0.0688\n",
            "Epoch 15/20\n",
            "235/235 [==============================] - 94s 400ms/step - loss: 0.0692 - val_loss: 0.0685\n",
            "Epoch 16/20\n",
            "235/235 [==============================] - 95s 405ms/step - loss: 0.0690 - val_loss: 0.0687\n",
            "Epoch 17/20\n",
            "235/235 [==============================] - 94s 401ms/step - loss: 0.0688 - val_loss: 0.0682\n",
            "Epoch 18/20\n",
            "235/235 [==============================] - 91s 389ms/step - loss: 0.0686 - val_loss: 0.0680\n",
            "Epoch 19/20\n",
            "235/235 [==============================] - 93s 396ms/step - loss: 0.0684 - val_loss: 0.0678\n",
            "Epoch 20/20\n",
            "235/235 [==============================] - 93s 395ms/step - loss: 0.0683 - val_loss: 0.0679\n"
          ]
        },
        {
          "output_type": "execute_result",
          "data": {
            "text/plain": [
              "<keras.src.callbacks.History at 0x79d95aeba050>"
            ]
          },
          "metadata": {},
          "execution_count": 9
        }
      ]
    },
    {
      "cell_type": "markdown",
      "source": [
        "### Visualize the Results"
      ],
      "metadata": {
        "id": "giaEea2ylbcq"
      }
    },
    {
      "cell_type": "code",
      "source": [
        "# predict the results from model (get compressed images)\n",
        "pred = model.predict(x_test)"
      ],
      "metadata": {
        "execution": {
          "iopub.status.busy": "2022-07-09T12:41:24.204762Z",
          "iopub.execute_input": "2022-07-09T12:41:24.20508Z",
          "iopub.status.idle": "2022-07-09T12:41:26.912602Z",
          "shell.execute_reply.started": "2022-07-09T12:41:24.205051Z",
          "shell.execute_reply": "2022-07-09T12:41:26.911627Z"
        },
        "trusted": true,
        "id": "TbR0jMPDlbcq",
        "outputId": "126eada1-97fd-489e-d332-732de8f16827",
        "colab": {
          "base_uri": "https://localhost:8080/"
        }
      },
      "execution_count": 10,
      "outputs": [
        {
          "output_type": "stream",
          "name": "stdout",
          "text": [
            "313/313 [==============================] - 6s 17ms/step\n"
          ]
        }
      ]
    },
    {
      "cell_type": "code",
      "source": [
        "# randomly select input image\n",
        "index = np.random.randint(len(x_test))\n",
        "# plot the image\n",
        "plt.imshow(x_test[index].reshape(28,28))\n",
        "plt.gray()"
      ],
      "metadata": {
        "execution": {
          "iopub.status.busy": "2022-07-09T12:41:26.913908Z",
          "iopub.execute_input": "2022-07-09T12:41:26.914201Z",
          "iopub.status.idle": "2022-07-09T12:41:27.090738Z",
          "shell.execute_reply.started": "2022-07-09T12:41:26.914175Z",
          "shell.execute_reply": "2022-07-09T12:41:27.089725Z"
        },
        "trusted": true,
        "id": "QGRGC8ABlbcr",
        "outputId": "0cf1f93c-0a0f-46e4-952f-b5adf55edadc",
        "colab": {
          "base_uri": "https://localhost:8080/",
          "height": 430
        }
      },
      "execution_count": 11,
      "outputs": [
        {
          "output_type": "display_data",
          "data": {
            "text/plain": [
              "<Figure size 640x480 with 1 Axes>"
            ],
            "image/png": "[encoded data removed]"
          },
          "metadata": {}
        }
      ]
    },
    {
      "cell_type": "code",
      "source": [
        "# visualize compressed image\n",
        "plt.imshow(pred[index].reshape(28,28))\n",
        "plt.gray()"
      ],
      "metadata": {
        "execution": {
          "iopub.status.busy": "2022-07-09T12:41:27.092178Z",
          "iopub.execute_input": "2022-07-09T12:41:27.09248Z",
          "iopub.status.idle": "2022-07-09T12:41:27.264975Z",
          "shell.execute_reply.started": "2022-07-09T12:41:27.092452Z",
          "shell.execute_reply": "2022-07-09T12:41:27.264248Z"
        },
        "trusted": true,
        "id": "hrugMCCClbcr",
        "outputId": "f5fe1246-17db-4f8e-c533-8798053b1340",
        "colab": {
          "base_uri": "https://localhost:8080/",
          "height": 430
        }
      },
      "execution_count": 12,
      "outputs": [
        {
          "output_type": "display_data",
          "data": {
            "text/plain": [
              "<Figure size 640x480 with 1 Axes>"
            ],
            "image/png": "[encoded data removed]"
          },
          "metadata": {}
        }
      ]
    },
    {
      "cell_type": "code",
      "source": [
        "index = np.random.randint(len(x_test))\n",
        "plt.figure(figsize=(10, 4))\n",
        "# display original image\n",
        "ax = plt.subplot(1, 2, 1)\n",
        "plt.imshow(x_test[index].reshape(28,28))\n",
        "plt.gray()\n",
        "ax.get_xaxis().set_visible(False)\n",
        "ax.get_yaxis().set_visible(False)\n",
        "# display compressed image\n",
        "ax = plt.subplot(1, 2, 2)\n",
        "plt.imshow(pred[index].reshape(28,28))\n",
        "plt.gray()\n",
        "ax.get_xaxis().set_visible(False)\n",
        "ax.get_yaxis().set_visible(False)\n",
        "plt.show()"
      ],
      "metadata": {
        "execution": {
          "iopub.status.busy": "2022-07-09T12:41:27.265972Z",
          "iopub.execute_input": "2022-07-09T12:41:27.266942Z",
          "iopub.status.idle": "2022-07-09T12:41:27.436348Z",
          "shell.execute_reply.started": "2022-07-09T12:41:27.266911Z",
          "shell.execute_reply": "2022-07-09T12:41:27.435593Z"
        },
        "trusted": true,
        "id": "58iyWim5lbcs",
        "outputId": "edb4624d-013e-42cc-cd42-6c80bcc2c5ae",
        "colab": {
          "base_uri": "https://localhost:8080/",
          "height": 345
        }
      },
      "execution_count": 13,
      "outputs": [
        {
          "output_type": "display_data",
          "data": {
            "text/plain": [
              "<Figure size 1000x400 with 2 Axes>"
            ],
            "image/png": "[encoded data removed]"
          },
          "metadata": {}
        }
      ]
    },
    {
      "cell_type": "code",
      "source": [
        "index = np.random.randint(len(x_test))\n",
        "plt.figure(figsize=(10, 4))\n",
        "# display original image\n",
        "ax = plt.subplot(1, 2, 1)\n",
        "plt.imshow(x_test[index].reshape(28,28))\n",
        "plt.gray()\n",
        "ax.get_xaxis().set_visible(False)\n",
        "ax.get_yaxis().set_visible(False)\n",
        "# display compressed image\n",
        "ax = plt.subplot(1, 2, 2)\n",
        "plt.imshow(pred[index].reshape(28,28))\n",
        "plt.gray()\n",
        "ax.get_xaxis().set_visible(False)\n",
        "ax.get_yaxis().set_visible(False)\n",
        "plt.show()"
      ],
      "metadata": {
        "execution": {
          "iopub.status.busy": "2022-07-09T12:41:27.438453Z",
          "iopub.execute_input": "2022-07-09T12:41:27.438804Z",
          "iopub.status.idle": "2022-07-09T12:41:27.611784Z",
          "shell.execute_reply.started": "2022-07-09T12:41:27.438774Z",
          "shell.execute_reply": "2022-07-09T12:41:27.610988Z"
        },
        "trusted": true,
        "id": "6ULEx7qKlbcs",
        "outputId": "bea3fb04-7849-4afd-b448-3a551e471873",
        "colab": {
          "base_uri": "https://localhost:8080/",
          "height": 345
        }
      },
      "execution_count": 14,
      "outputs": [
        {
          "output_type": "display_data",
          "data": {
            "text/plain": [
              "<Figure size 1000x400 with 2 Axes>"
            ],
            "image/png": "[encoded data removed]"
          },
          "metadata": {}
        }
      ]
    }
  ]
}